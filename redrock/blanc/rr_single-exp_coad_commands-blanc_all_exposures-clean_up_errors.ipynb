{
 "cells": [
  {
   "cell_type": "markdown",
   "metadata": {},
   "source": [
    "Find errors from the log:\n",
    "```\n",
    "grep error */redrock*.log\n",
    "```\n",
    "and remove the associated files"
   ]
  },
  {
   "cell_type": "code",
   "execution_count": 1,
   "metadata": {},
   "outputs": [],
   "source": [
    "from __future__ import division, print_function\n",
    "import sys, os, glob, time, warnings, gc\n",
    "import numpy as np\n",
    "import matplotlib.pyplot as plt\n",
    "from astropy.table import Table, vstack, hstack\n",
    "import fitsio\n",
    "# from astropy.io import fits"
   ]
  },
  {
   "cell_type": "code",
   "execution_count": 2,
   "metadata": {},
   "outputs": [],
   "source": [
    "params = {'legend.fontsize': 'large',\n",
    "         'axes.labelsize': 'large',\n",
    "         'axes.titlesize':'large',\n",
    "         'xtick.labelsize':'large',\n",
    "         'ytick.labelsize':'large',\n",
    "         'figure.facecolor':'w'} \n",
    "plt.rcParams.update(params)"
   ]
  },
  {
   "cell_type": "code",
   "execution_count": 4,
   "metadata": {},
   "outputs": [],
   "source": [
    "log_files = ['66014/redrock-9-66014-00055432.log',\n",
    "'68002/redrock-6-68002-00055627.log',\n",
    "'70003/redrock-6-70003-00051059.log',\n",
    "'70003/redrock-6-70003-00052324.log',\n",
    "'70003/redrock-9-70003-00052680.log',\n",
    "'70502/redrock-7-70502-00052447.log',\n",
    "'80605/redrock-7-80605-00067975.log',\n",
    "'80606/redrock-1-80606-00067970.log',\n",
    "'80606/redrock-7-80606-00068630.log',\n",
    "'80607/redrock-3-80607-00068663.log',\n",
    "'80608/redrock-0-80608-00068026.log',\n",
    "'80608/redrock-2-80608-00068660.log',\n",
    "'80608/redrock-3-80608-00068023.log',\n",
    "'80608/redrock-3-80608-00068661.log',\n",
    "'80609/redrock-0-80609-00068336.log',\n",
    "'80609/redrock-3-80609-00068339.log',\n",
    "'80609/redrock-5-80609-00068340.log',\n",
    "'80609/redrock-7-80609-00068336.log',\n",
    "'80610/redrock-4-80610-00068478.log',\n",
    "'80610/redrock-8-80610-00068331.log',\n",
    "'80611/redrock-6-80611-00069412.log',\n",
    "'80612/redrock-5-80612-00068646.log',\n",
    "'80612/redrock-5-80612-00069596.log',\n",
    "'80612/redrock-6-80612-00068644.log',\n",
    "'80612/redrock-8-80612-00068645.log',\n",
    "'80612/redrock-8-80612-00068646.log',\n",
    "'80616/redrock-9-80616-00069578.log',\n",
    "'80619/redrock-2-80619-00068674.log',\n",
    "'80619/redrock-8-80619-00068672.log',]"
   ]
  },
  {
   "cell_type": "code",
   "execution_count": 35,
   "metadata": {},
   "outputs": [
    {
     "data": {
      "text/plain": [
       "29"
      ]
     },
     "execution_count": 35,
     "metadata": {},
     "output_type": "execute_result"
    }
   ],
   "source": [
    "len(log_files)"
   ]
  },
  {
   "cell_type": "code",
   "execution_count": 18,
   "metadata": {},
   "outputs": [
    {
     "name": "stdout",
     "output_type": "stream",
     "text": [
      "-rw-rw---- 1 rongpu desi 128M Feb  4 14:18 /global/cfs/cdirs/desi/users/rongpu/redux/blanc/single_exposures/80619/redrock-8-80619-00068672.h5\r\n",
      "-rw-rw---- 1 rongpu desi 4.6K Feb  4 14:19 /global/cfs/cdirs/desi/users/rongpu/redux/blanc/single_exposures/80619/redrock-8-80619-00068672.log\r\n",
      "-rw-rw---- 1 rongpu desi 198M Feb  3 20:31 /global/cfs/cdirs/desi/users/rongpu/redux/blanc/single_exposures/80619/spectra-8-80619-00068672.fits\r\n",
      "-rw-rw---- 1 rongpu desi 287K Feb  4 14:18 /global/cfs/cdirs/desi/users/rongpu/redux/blanc/single_exposures/80619/zbest-8-80619-00068672.fits\r\n"
     ]
    }
   ],
   "source": [
    "ls -lh /global/cfs/cdirs/desi/users/rongpu/redux/blanc/single_exposures/80619/*8-80619-00068672*"
   ]
  },
  {
   "cell_type": "code",
   "execution_count": 33,
   "metadata": {},
   "outputs": [
    {
     "name": "stdout",
     "output_type": "stream",
     "text": [
      "/global/cfs/cdirs/desi/users/rongpu/redux/blanc/single_exposures/80619/redrock-2-80619-00068674.log\n"
     ]
    }
   ],
   "source": [
    "outdir = os.path.expandvars('/global/cfs/cdirs/desi/users/$USER/redux/blanc/single_exposures')\n",
    "newdir = os.path.expandvars('/global/cfs/cdirs/desi/users/$USER/redux/blanc/attic')\n",
    "for log_fn in log_files:\n",
    "    log_path = os.path.join(outdir, log_fn)\n",
    "    zbest_path = log_path.replace('redrock-', 'zbest-').replace('.log', '.fits')\n",
    "    redrock_path = log_path.replace('.log', '.h5')\n",
    "    log_path_new = os.path.join(newdir, os.path.basename(log_path))\n",
    "    zbest_path_new = os.path.join(newdir, os.path.basename(zbest_path))\n",
    "    redrock_path_new = os.path.join(newdir, os.path.basename(redrock_path))\n",
    "    \n",
    "    try:\n",
    "        os.rename(log_path, log_path_new)\n",
    "    except:\n",
    "        print(log_path)\n",
    "    try:\n",
    "        os.rename(zbest_path, zbest_path_new)\n",
    "    except:\n",
    "        print(log_path)\n",
    "    try:\n",
    "        os.rename(redrock_path, redrock_path_new)\n",
    "    except:\n",
    "        print(log_path)"
   ]
  },
  {
   "cell_type": "code",
   "execution_count": null,
   "metadata": {},
   "outputs": [],
   "source": []
  }
 ],
 "metadata": {
  "kernelspec": {
   "display_name": "DESI 20.7",
   "language": "python",
   "name": "desi-20.7"
  },
  "language_info": {
   "codemirror_mode": {
    "name": "ipython",
    "version": 3
   },
   "file_extension": ".py",
   "mimetype": "text/x-python",
   "name": "python",
   "nbconvert_exporter": "python",
   "pygments_lexer": "ipython3",
   "version": "3.8.3"
  }
 },
 "nbformat": 4,
 "nbformat_minor": 2
}
