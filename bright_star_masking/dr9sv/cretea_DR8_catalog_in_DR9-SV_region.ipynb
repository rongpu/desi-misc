{
 "cells": [
  {
   "cell_type": "code",
   "execution_count": 1,
   "metadata": {},
   "outputs": [],
   "source": [
    "from __future__ import division, print_function\n",
    "import sys, os, glob, time, warnings, gc\n",
    "import matplotlib.pyplot as plt\n",
    "import numpy as np\n",
    "from astropy.table import Table, vstack, hstack\n",
    "import fitsio"
   ]
  },
  {
   "cell_type": "code",
   "execution_count": 2,
   "metadata": {},
   "outputs": [],
   "source": [
    "params = {'legend.fontsize': 'large',\n",
    "         'axes.labelsize': 'large',\n",
    "         'axes.titlesize':'large',\n",
    "         'xtick.labelsize':'large',\n",
    "         'ytick.labelsize':'large',\n",
    "         'figure.facecolor':'w'} \n",
    "plt.rcParams.update(params)"
   ]
  },
  {
   "cell_type": "code",
   "execution_count": 4,
   "metadata": {},
   "outputs": [],
   "source": [
    "target_path_dr9sv = '/global/cfs/cdirs/desi/target/catalogs/dr9sv/0.37.0/targets/main/resolve/dark/targets-dr9-hp-X.fits'\n",
    "random_path_dr9sv = '/global/project/projectdirs/cosmo/data/legacysurvey/dr9sv/randoms/randoms-dr9-hp-X-1.fits'\n",
    "target_dir = '/global/project/projectdirs/desi/target/catalogs/dr8/0.31.1/targets/main/resolve'\n",
    "target_columns = ['BRICKID', 'MORPHTYPE', 'RA', 'DEC', 'EBV', 'FLUX_G', 'FLUX_R', 'FLUX_Z', 'MW_TRANSMISSION_G', 'MW_TRANSMISSION_R', 'MW_TRANSMISSION_Z', 'NOBS_G', 'NOBS_R', 'NOBS_Z', 'FLUX_W1', 'FLUX_W2', 'MW_TRANSMISSION_W1', 'MW_TRANSMISSION_W2', 'WISEMASK_W1', 'WISEMASK_W2', 'MASKBITS', 'PHOTSYS', 'DESI_TARGET']"
   ]
  },
  {
   "cell_type": "markdown",
   "metadata": {},
   "source": [
    "__South__"
   ]
  },
  {
   "cell_type": "code",
   "execution_count": 7,
   "metadata": {},
   "outputs": [
    {
     "name": "stdout",
     "output_type": "stream",
     "text": [
      "5171874\n",
      "3641964\n"
     ]
    }
   ],
   "source": [
    "region = b'S'\n",
    "\n",
    "dr9sv = fitsio.read(target_path_dr9sv, columns=['BRICKID', 'PHOTSYS'])\n",
    "print(len(dr9sv))\n",
    "mask = dr9sv['PHOTSYS']==region\n",
    "dr9sv = dr9sv[mask]\n",
    "print(len(dr9sv))\n",
    "\n",
    "brickid_list = np.unique(dr9sv['BRICKID'])"
   ]
  },
  {
   "cell_type": "code",
   "execution_count": 18,
   "metadata": {},
   "outputs": [
    {
     "name": "stdout",
     "output_type": "stream",
     "text": [
      "32\n",
      "124539\n",
      "132892\n",
      "94\n",
      "28848\n",
      "623599\n",
      "285150\n",
      "3678\n",
      "594522\n",
      "121758\n",
      "739511\n",
      "39442\n",
      "163693\n",
      "26303\n",
      "201585\n",
      "\n",
      " 3085614\n"
     ]
    }
   ],
   "source": [
    "target_paths = glob.glob(os.path.join(target_dir, '*.fits'))\n",
    "print(len(target_paths))\n",
    "\n",
    "cat = []\n",
    "for target_path in target_paths:\n",
    "    tmp = fitsio.read(target_path, columns=['BRICKID', 'PHOTSYS'])\n",
    "    mask = np.in1d(tmp['BRICKID'], brickid_list) & (tmp['PHOTSYS']==region)\n",
    "    if np.sum(mask)==0:\n",
    "        continue\n",
    "    idx = np.where(mask)[0]\n",
    "    tmp = fitsio.read(target_path, columns=target_columns, rows=idx)\n",
    "    tmp = Table(tmp)\n",
    "    print(len(tmp))\n",
    "    cat.append(tmp)\n",
    "cat = vstack(cat)\n",
    "print('\\n', len(cat))"
   ]
  },
  {
   "cell_type": "code",
   "execution_count": 21,
   "metadata": {},
   "outputs": [],
   "source": [
    "cat.write('/global/cscratch1/sd/rongpu/dr9dev/dr8_targets_in_dr9sv_region/dr8_south.fits')"
   ]
  },
  {
   "cell_type": "markdown",
   "metadata": {},
   "source": [
    "__North__"
   ]
  },
  {
   "cell_type": "code",
   "execution_count": 23,
   "metadata": {},
   "outputs": [
    {
     "name": "stdout",
     "output_type": "stream",
     "text": [
      "5171874\n",
      "1529910\n"
     ]
    }
   ],
   "source": [
    "region = b'N'\n",
    "\n",
    "dr9sv = fitsio.read(target_path_dr9sv, columns=['BRICKID', 'PHOTSYS'])\n",
    "print(len(dr9sv))\n",
    "mask = dr9sv['PHOTSYS']==region\n",
    "dr9sv = dr9sv[mask]\n",
    "print(len(dr9sv))\n",
    "\n",
    "brickid_list = np.unique(dr9sv['BRICKID'])"
   ]
  },
  {
   "cell_type": "code",
   "execution_count": 24,
   "metadata": {},
   "outputs": [
    {
     "name": "stdout",
     "output_type": "stream",
     "text": [
      "32\n",
      "882\n",
      "97823\n",
      "435035\n",
      "376615\n",
      "231834\n",
      "5170\n",
      "105\n",
      "113892\n",
      "193724\n",
      "92122\n",
      "\n",
      " 1547202\n"
     ]
    }
   ],
   "source": [
    "target_paths = glob.glob(os.path.join(target_dir, '*.fits'))\n",
    "print(len(target_paths))\n",
    "\n",
    "cat = []\n",
    "for target_path in target_paths:\n",
    "    tmp = fitsio.read(target_path, columns=['BRICKID', 'PHOTSYS'])\n",
    "    mask = np.in1d(tmp['BRICKID'], brickid_list) & (tmp['PHOTSYS']==region)\n",
    "    if np.sum(mask)==0:\n",
    "        continue\n",
    "    idx = np.where(mask)[0]\n",
    "    tmp = fitsio.read(target_path, columns=target_columns, rows=idx)\n",
    "    tmp = Table(tmp)\n",
    "    print(len(tmp))\n",
    "    cat.append(tmp)\n",
    "cat = vstack(cat)\n",
    "print('\\n', len(cat))"
   ]
  },
  {
   "cell_type": "code",
   "execution_count": 26,
   "metadata": {},
   "outputs": [
    {
     "data": {
      "text/html": [
       "&lt;Table length=1547202&gt;\n",
       "<table id=\"table46913343471688\" class=\"table-striped table-bordered table-condensed\">\n",
       "<thead><tr><th>BRICKID</th><th>MORPHTYPE</th><th>RA</th><th>DEC</th><th>EBV</th><th>FLUX_G</th><th>FLUX_R</th><th>FLUX_Z</th><th>MW_TRANSMISSION_G</th><th>MW_TRANSMISSION_R</th><th>MW_TRANSMISSION_Z</th><th>NOBS_G</th><th>NOBS_R</th><th>NOBS_Z</th><th>FLUX_W1</th><th>FLUX_W2</th><th>MW_TRANSMISSION_W1</th><th>MW_TRANSMISSION_W2</th><th>WISEMASK_W1</th><th>WISEMASK_W2</th><th>MASKBITS</th><th>PHOTSYS</th><th>DESI_TARGET</th></tr></thead>\n",
       "<thead><tr><th>int32</th><th>bytes4</th><th>float64</th><th>float64</th><th>float32</th><th>float32</th><th>float32</th><th>float32</th><th>float32</th><th>float32</th><th>float32</th><th>int16</th><th>int16</th><th>int16</th><th>float32</th><th>float32</th><th>float32</th><th>float32</th><th>uint8</th><th>uint8</th><th>int16</th><th>bytes1</th><th>int64</th></tr></thead>\n",
       "<tr><td>602020</td><td>PSF</td><td>209.954791341</td><td>55.0007330384</td><td>0.012041</td><td>13.4753</td><td>39.7845</td><td>70.6524</td><td>0.964984</td><td>0.976276</td><td>0.98666</td><td>2</td><td>2</td><td>3</td><td>33.6073</td><td>17.3772</td><td>0.997961</td><td>0.998748</td><td>0</td><td>0</td><td>0</td><td>N</td><td>2305843009213693952</td></tr>\n",
       "<tr><td>602020</td><td>PSF</td><td>209.996180627</td><td>55.0051141038</td><td>0.0118895</td><td>8.80788</td><td>10.369</td><td>14.7794</td><td>0.965417</td><td>0.976571</td><td>0.986826</td><td>2</td><td>2</td><td>3</td><td>48.6454</td><td>60.4917</td><td>0.997987</td><td>0.998763</td><td>0</td><td>0</td><td>0</td><td>N</td><td>1152921504606848004</td></tr>\n",
       "<tr><td>602020</td><td>PSF</td><td>209.941347039</td><td>55.0066007049</td><td>0.0122038</td><td>0.391331</td><td>0.452054</td><td>1.03048</td><td>0.964519</td><td>0.975959</td><td>0.98648</td><td>2</td><td>2</td><td>3</td><td>6.2362</td><td>9.8582</td><td>0.997934</td><td>0.998731</td><td>0</td><td>0</td><td>0</td><td>N</td><td>514</td></tr>\n",
       "<tr><td>602020</td><td>EXP</td><td>209.977293824</td><td>55.0115034732</td><td>0.0119996</td><td>4.80445</td><td>15.5698</td><td>34.2815</td><td>0.965102</td><td>0.976356</td><td>0.986705</td><td>3</td><td>3</td><td>3</td><td>58.4447</td><td>48.5082</td><td>0.997968</td><td>0.998752</td><td>0</td><td>0</td><td>0</td><td>N</td><td>1152921504606846976</td></tr>\n",
       "<tr><td>602020</td><td>EXP</td><td>209.941272627</td><td>55.0171136473</td><td>0.0123121</td><td>9.47607</td><td>25.8653</td><td>51.3504</td><td>0.96421</td><td>0.975748</td><td>0.986361</td><td>3</td><td>3</td><td>3</td><td>73.1705</td><td>61.9204</td><td>0.997916</td><td>0.998719</td><td>0</td><td>0</td><td>0</td><td>N</td><td>1152921504606846976</td></tr>\n",
       "<tr><td>602020</td><td>PSF</td><td>209.952036331</td><td>55.020584906</td><td>0.0122655</td><td>101.952</td><td>177.985</td><td>211.735</td><td>0.964343</td><td>0.975839</td><td>0.986413</td><td>3</td><td>3</td><td>3</td><td>70.0025</td><td>35.8498</td><td>0.997923</td><td>0.998724</td><td>0</td><td>0</td><td>0</td><td>N</td><td>2305843009213693952</td></tr>\n",
       "<tr><td>602020</td><td>DEV</td><td>209.96497754</td><td>55.0388062246</td><td>0.012376</td><td>13.0935</td><td>41.1041</td><td>83.8004</td><td>0.964027</td><td>0.975624</td><td>0.986291</td><td>3</td><td>3</td><td>2</td><td>101.206</td><td>74.9063</td><td>0.997905</td><td>0.998713</td><td>0</td><td>0</td><td>0</td><td>N</td><td>1152921504606846976</td></tr>\n",
       "<tr><td>602020</td><td>EXP</td><td>209.979665608</td><td>55.0474007586</td><td>0.0123689</td><td>8.24881</td><td>11.7478</td><td>13.2793</td><td>0.964048</td><td>0.975638</td><td>0.986299</td><td>3</td><td>3</td><td>2</td><td>5.76477</td><td>5.29031</td><td>0.997906</td><td>0.998713</td><td>0</td><td>0</td><td>0</td><td>N</td><td>1152921504606846976</td></tr>\n",
       "<tr><td>602020</td><td>REX</td><td>209.988341027</td><td>55.0535150703</td><td>0.0123738</td><td>0.359981</td><td>0.461053</td><td>1.18758</td><td>0.964034</td><td>0.975628</td><td>0.986293</td><td>3</td><td>3</td><td>2</td><td>1.12414</td><td>-1.28477</td><td>0.997905</td><td>0.998713</td><td>0</td><td>0</td><td>0</td><td>N</td><td>514</td></tr>\n",
       "<tr><td>602020</td><td>PSF</td><td>209.978745846</td><td>55.073133453</td><td>0.012608</td><td>0.461002</td><td>0.524873</td><td>0.86857</td><td>0.963366</td><td>0.975172</td><td>0.986036</td><td>3</td><td>3</td><td>3</td><td>1.35519</td><td>1.73273</td><td>0.997866</td><td>0.998689</td><td>0</td><td>0</td><td>0</td><td>N</td><td>514</td></tr>\n",
       "<tr><td>...</td><td>...</td><td>...</td><td>...</td><td>...</td><td>...</td><td>...</td><td>...</td><td>...</td><td>...</td><td>...</td><td>...</td><td>...</td><td>...</td><td>...</td><td>...</td><td>...</td><td>...</td><td>...</td><td>...</td><td>...</td><td>...</td><td>...</td></tr>\n",
       "<tr><td>513361</td><td>REX</td><td>143.511945183</td><td>33.6147655728</td><td>0.0168585</td><td>0.645556</td><td>0.984865</td><td>2.31762</td><td>0.95132</td><td>0.966942</td><td>0.981372</td><td>3</td><td>3</td><td>4</td><td>3.48027</td><td>-0.341194</td><td>0.997147</td><td>0.998247</td><td>0</td><td>0</td><td>0</td><td>N</td><td>514</td></tr>\n",
       "<tr><td>513361</td><td>PSF</td><td>143.284033872</td><td>33.6164877572</td><td>0.0171516</td><td>0.630224</td><td>0.909025</td><td>1.90756</td><td>0.950495</td><td>0.966377</td><td>0.981051</td><td>3</td><td>3</td><td>5</td><td>5.91971</td><td>5.00457</td><td>0.997098</td><td>0.998217</td><td>0</td><td>0</td><td>0</td><td>N</td><td>1542</td></tr>\n",
       "<tr><td>513361</td><td>PSF</td><td>143.254913027</td><td>33.617429557</td><td>0.0165631</td><td>0.354314</td><td>0.352835</td><td>0.520349</td><td>0.952152</td><td>0.967512</td><td>0.981696</td><td>3</td><td>3</td><td>3</td><td>1.62675</td><td>3.31528</td><td>0.997197</td><td>0.998278</td><td>0</td><td>0</td><td>0</td><td>N</td><td>514</td></tr>\n",
       "<tr><td>513361</td><td>DEV</td><td>143.431925424</td><td>33.6198799072</td><td>0.0175155</td><td>5.79785</td><td>10.7916</td><td>23.8639</td><td>0.949472</td><td>0.965676</td><td>0.980653</td><td>3</td><td>3</td><td>3</td><td>27.2018</td><td>5.08906</td><td>0.997036</td><td>0.998179</td><td>0</td><td>0</td><td>0</td><td>N</td><td>1152921504606846976</td></tr>\n",
       "<tr><td>513361</td><td>DEV</td><td>143.430157568</td><td>33.621301105</td><td>0.017509</td><td>62.0586</td><td>145.858</td><td>270.68</td><td>0.94949</td><td>0.965689</td><td>0.98066</td><td>3</td><td>3</td><td>3</td><td>193.419</td><td>115.018</td><td>0.997037</td><td>0.998179</td><td>0</td><td>0</td><td>0</td><td>N</td><td>1152921504606846976</td></tr>\n",
       "<tr><td>513361</td><td>REX</td><td>143.297247995</td><td>33.6194052513</td><td>0.0175462</td><td>0.418418</td><td>0.563938</td><td>1.3269</td><td>0.949386</td><td>0.965617</td><td>0.98062</td><td>3</td><td>3</td><td>5</td><td>5.59038</td><td>7.45164</td><td>0.997031</td><td>0.998176</td><td>0</td><td>0</td><td>0</td><td>N</td><td>514</td></tr>\n",
       "<tr><td>513361</td><td>REX</td><td>143.308124854</td><td>33.6207607685</td><td>0.0178507</td><td>0.480682</td><td>0.614936</td><td>1.01541</td><td>0.94853</td><td>0.965031</td><td>0.980287</td><td>3</td><td>3</td><td>5</td><td>0.626497</td><td>2.29311</td><td>0.996979</td><td>0.998144</td><td>0</td><td>0</td><td>0</td><td>N</td><td>514</td></tr>\n",
       "<tr><td>513361</td><td>DEV</td><td>143.472174786</td><td>33.6210214523</td><td>0.0167983</td><td>0.310491</td><td>1.08713</td><td>7.63119</td><td>0.95149</td><td>0.967058</td><td>0.981438</td><td>3</td><td>3</td><td>4</td><td>38.2801</td><td>24.1583</td><td>0.997157</td><td>0.998253</td><td>0</td><td>0</td><td>0</td><td>N</td><td>33554705</td></tr>\n",
       "<tr><td>513361</td><td>PSF</td><td>143.481094392</td><td>33.6230508439</td><td>0.0166587</td><td>0.438401</td><td>0.397447</td><td>1.12364</td><td>0.951883</td><td>0.967328</td><td>0.981591</td><td>3</td><td>3</td><td>4</td><td>2.35364</td><td>1.67513</td><td>0.997181</td><td>0.998268</td><td>0</td><td>0</td><td>0</td><td>N</td><td>514</td></tr>\n",
       "<tr><td>513361</td><td>REX</td><td>143.363656719</td><td>33.6242229085</td><td>0.0184183</td><td>0.449269</td><td>0.581558</td><td>1.21837</td><td>0.946938</td><td>0.963939</td><td>0.979666</td><td>4</td><td>4</td><td>4</td><td>0.61593</td><td>0.899808</td><td>0.996884</td><td>0.998085</td><td>0</td><td>0</td><td>8</td><td>N</td><td>514</td></tr>\n",
       "</table>"
      ],
      "text/plain": [
       "<Table length=1547202>\n",
       "BRICKID MORPHTYPE       RA      ... MASKBITS PHOTSYS     DESI_TARGET    \n",
       " int32    bytes4     float64    ...  int16    bytes1        int64       \n",
       "------- --------- ------------- ... -------- ------- -------------------\n",
       " 602020      PSF  209.954791341 ...        0       N 2305843009213693952\n",
       " 602020      PSF  209.996180627 ...        0       N 1152921504606848004\n",
       " 602020      PSF  209.941347039 ...        0       N                 514\n",
       " 602020      EXP  209.977293824 ...        0       N 1152921504606846976\n",
       " 602020      EXP  209.941272627 ...        0       N 1152921504606846976\n",
       " 602020      PSF  209.952036331 ...        0       N 2305843009213693952\n",
       " 602020      DEV   209.96497754 ...        0       N 1152921504606846976\n",
       " 602020      EXP  209.979665608 ...        0       N 1152921504606846976\n",
       " 602020      REX  209.988341027 ...        0       N                 514\n",
       " 602020      PSF  209.978745846 ...        0       N                 514\n",
       "    ...       ...           ... ...      ...     ...                 ...\n",
       " 513361      REX  143.511945183 ...        0       N                 514\n",
       " 513361      PSF  143.284033872 ...        0       N                1542\n",
       " 513361      PSF  143.254913027 ...        0       N                 514\n",
       " 513361      DEV  143.431925424 ...        0       N 1152921504606846976\n",
       " 513361      DEV  143.430157568 ...        0       N 1152921504606846976\n",
       " 513361      REX  143.297247995 ...        0       N                 514\n",
       " 513361      REX  143.308124854 ...        0       N                 514\n",
       " 513361      DEV  143.472174786 ...        0       N            33554705\n",
       " 513361      PSF  143.481094392 ...        0       N                 514\n",
       " 513361      REX  143.363656719 ...        8       N                 514"
      ]
     },
     "execution_count": 26,
     "metadata": {},
     "output_type": "execute_result"
    }
   ],
   "source": [
    "cat"
   ]
  },
  {
   "cell_type": "code",
   "execution_count": 25,
   "metadata": {},
   "outputs": [],
   "source": [
    "cat.write('/global/cscratch1/sd/rongpu/dr9dev/dr8_targets_in_dr9sv_region/dr8_north.fits')"
   ]
  },
  {
   "cell_type": "code",
   "execution_count": null,
   "metadata": {},
   "outputs": [],
   "source": []
  }
 ],
 "metadata": {
  "kernelspec": {
   "display_name": "DESI 18.7",
   "language": "python",
   "name": "desi-18.7"
  },
  "language_info": {
   "codemirror_mode": {
    "name": "ipython",
    "version": 3
   },
   "file_extension": ".py",
   "mimetype": "text/x-python",
   "name": "python",
   "nbconvert_exporter": "python",
   "pygments_lexer": "ipython3",
   "version": "3.6.6"
  }
 },
 "nbformat": 4,
 "nbformat_minor": 2
}
