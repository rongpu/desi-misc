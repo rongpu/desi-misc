{
 "cells": [
  {
   "cell_type": "code",
   "execution_count": 2,
   "metadata": {},
   "outputs": [],
   "source": [
    "from __future__ import division, print_function\n",
    "import sys, os, glob, time, warnings, gc\n",
    "import matplotlib.pyplot as plt\n",
    "import numpy as np\n",
    "from astropy.table import Table, vstack, hstack\n",
    "import fitsio\n",
    "from astropy.io import fits"
   ]
  },
  {
   "cell_type": "code",
   "execution_count": 3,
   "metadata": {},
   "outputs": [],
   "source": [
    "params = {'legend.fontsize': 'large',\n",
    "         'axes.labelsize': 'large',\n",
    "         'axes.titlesize':'large',\n",
    "         'xtick.labelsize':'large',\n",
    "         'ytick.labelsize':'large',\n",
    "         'figure.facecolor':'w'} \n",
    "plt.rcParams.update(params)"
   ]
  },
  {
   "cell_type": "code",
   "execution_count": 55,
   "metadata": {},
   "outputs": [
    {
     "name": "stdout",
     "output_type": "stream",
     "text": [
      "1148265\n",
      "164459\n"
     ]
    }
   ],
   "source": [
    "ccdnamenumdict = {'S1': 25, 'S2': 26, 'S3': 27, 'S4':28,\n",
    "                  'S5': 29, 'S6': 30, 'S7': 31,\n",
    "                  'S8': 19, 'S9': 20, 'S10': 21, 'S11': 22, 'S12': 23,\n",
    "                  'S13': 24,\n",
    "                  'S14': 13, 'S15': 14, 'S16': 15, 'S17': 16, 'S18': 17,\n",
    "                  'S19': 18,\n",
    "                  'S20': 8, 'S21': 9, 'S22': 10, 'S23': 11, 'S24': 12,\n",
    "                  'S25': 4, 'S26': 5, 'S27': 6, 'S28': 7,\n",
    "                  'S29': 1, 'S30': 2, 'S31': 3,\n",
    "                  'N1': 32, 'N2': 33, 'N3': 34, 'N4': 35,\n",
    "                  'N5': 36, 'N6': 37, 'N7': 38,\n",
    "                  'N8': 39, 'N9': 40, 'N10': 41, 'N11': 42, 'N12': 43,\n",
    "                  'N13': 44,\n",
    "                  'N14': 45, 'N15': 46, 'N16': 47, 'N17': 48, 'N18': 49,\n",
    "                  'N19': 50,\n",
    "                  'N20': 51, 'N21': 52, 'N22': 53, 'N23': 54, 'N24': 55,\n",
    "                  'N25': 56, 'N26': 57, 'N27': 58, 'N28': 59,\n",
    "                  'N29': 60, 'N30': 61, 'N31': 62,\n",
    "                  }\n",
    "\n",
    "fringe_dir = '/global/homes/d/djschleg/cosmo/staging/decam/DECam_CP-Fringe'\n",
    "image_dir = '/global/project/projectdirs/cosmo/staging/'\n",
    "surveyccd_path = '/global/project/projectdirs/cosmo/work/legacysurvey/dr9/survey-ccds-decam-dr9-cut.fits.gz'\n",
    "blob_dir = '/global/project/projectdirs/desi/users/rongpu/dr9/decam_ccd_blob_mask'\n",
    "\n",
    "sky_dir = '/global/project/projectdirs/desi/users/rongpu/dr9/fringe/smooth_sky'\n",
    "plot_dir = '/global/project/projectdirs/desi/users/rongpu/dr9/fringe/plots'\n",
    "output_dir = '/global/project/projectdirs/desi/users/rongpu/dr9/fringe/data'\n",
    "\n",
    "# Load CCD list\n",
    "ccd_columns = ['image_filename', 'image_hdu', 'expnum', 'ccdname', 'filter', 'mjd_obs', 'ra', 'dec', 'skyrms', 'ccdraoff', 'ccddecoff', 'ccd_cuts']\n",
    "ccd = fitsio.read(surveyccd_path, columns=ccd_columns)\n",
    "# ccd = fitsio.read(surveyccd_path)\n",
    "ccd = Table(ccd)\n",
    "mask = ccd['ccd_cuts']==0\n",
    "mask &= ccd['filter']=='z' # include only z-band images\n",
    "ccd = ccd[mask]\n",
    "print(len(ccd))\n",
    "\n",
    "# Find CCDs around some MJD\n",
    "mask = (ccd['mjd_obs']>(57815-4)) & (ccd['mjd_obs']<(57815+4)) # DECaLS observing run starting Feb 28, 2017\n",
    "mask |= ((ccd['mjd_obs']>(58359-2)) & (ccd['mjd_obs']<(58359+27))) # Starting Aug 28, 2018\n",
    "mask |= ((ccd['mjd_obs']>(58423-2)) & (ccd['mjd_obs']<(58423+30))) # Two runs starting Oct 28, 2018\n",
    "mask |= ((ccd['mjd_obs']>(57893-2)) & (ccd['mjd_obs']<(57893+30))) # Two runs starting May 18, 2017\n",
    "ccd = ccd[mask]\n",
    "print(len(ccd))"
   ]
  },
  {
   "cell_type": "code",
   "execution_count": 56,
   "metadata": {},
   "outputs": [
    {
     "name": "stdout",
     "output_type": "stream",
     "text": [
      "0.831605445734\n",
      "136765\n"
     ]
    }
   ],
   "source": [
    "# Find the CCDs whose blobmask files exist\n",
    "ccd_mask = np.zeros(len(ccd), dtype=bool)\n",
    "for ccd_index in range(len(ccd)):\n",
    "    str_loc = str.find(ccd['image_filename'][ccd_index].strip(), '.fits')\n",
    "    img_filename_base = ccd['image_filename'][ccd_index].strip()[:str_loc]\n",
    "    blob_path = os.path.join(blob_dir, 'blob_mask', img_filename_base+'-blobmask.npz')\n",
    "    if os.path.isfile(blob_path):\n",
    "        ccd_mask[ccd_index] = True\n",
    "print(np.sum(ccd_mask)/len(ccd_mask))\n",
    "ccd = ccd[ccd_mask]\n",
    "print(len(ccd))"
   ]
  },
  {
   "cell_type": "code",
   "execution_count": 57,
   "metadata": {},
   "outputs": [
    {
     "name": "stdout",
     "output_type": "stream",
     "text": [
      "5127 131638\n"
     ]
    }
   ],
   "source": [
    "t = Table()\n",
    "t['expnum'], t['counts'] = np.unique(ccd['expnum'], return_counts=True)\n",
    "\n",
    "# Only keep exposures with all 61 CCDs\n",
    "mask = t['counts']==61\n",
    "mask_remove = ~np.in1d(ccd['expnum'], t['expnum'][mask])\n",
    "print(np.sum(mask_remove), np.sum(~mask_remove))\n",
    "ccd = ccd[~mask_remove]"
   ]
  },
  {
   "cell_type": "code",
   "execution_count": 58,
   "metadata": {
    "scrolled": false
   },
   "outputs": [
    {
     "name": "stdout",
     "output_type": "stream",
     "text": [
      "61\n",
      "N1  N10 N11 N12 N13 N14 N15 N16 N17 N18 N19 N2  N20 N21 N22 N23 N24 N25 N26 N27 N28 N29 N3  N31 N4  N5  N6  N7  N8  N9  S1  S10 S11 S12 S13 S14 S15 S16 S17 S18 S19 S2  S20 S21 S22 S23 S24 S25 S26 S27 S28 S29 S3  S30 S31 S4  S5  S6  S7  S8  S9 \n"
     ]
    }
   ],
   "source": [
    "print(len(np.unique(ccd['ccdname'])))\n",
    "print(' '.join(np.unique(ccd['ccdname'])))"
   ]
  },
  {
   "cell_type": "code",
   "execution_count": 59,
   "metadata": {},
   "outputs": [
    {
     "name": "stdout",
     "output_type": "stream",
     "text": [
      "2158\n",
      "340 1818\n",
      "413 1405\n"
     ]
    }
   ],
   "source": [
    "# For simplicity choose one CCD\n",
    "mask = ccd['ccdname']=='N10'\n",
    "ccd = ccd[mask]\n",
    "print(len(ccd))\n",
    "\n",
    "# Identify the observing date of each CCD\n",
    "str_loc = np.char.find(np.array(ccd['image_filename'], dtype='str'), '/CP201')\n",
    "ccd['obs_date'] = np.array([ccd['image_filename'][i][str_loc[i]+1:str_loc[i]+11] for i in range(len(ccd))])\n",
    "t = Table()\n",
    "t['obs_date'], t['counts'] = np.unique(ccd['obs_date'], return_counts=True)\n",
    "\n",
    "# Require a minimum number of CCDs (since scipy gaussian_filter does not handle NAN)\n",
    "mask = t['counts']<50\n",
    "mask_remove = np.in1d(ccd['obs_date'], t['obs_date'][mask])\n",
    "print(np.sum(mask_remove), np.sum(~mask_remove))\n",
    "ccd = ccd[~mask_remove]\n",
    "\n",
    "# Also remove nights with too many exposures\n",
    "mask = t['counts']>=120\n",
    "mask_remove = np.in1d(ccd['obs_date'], t['obs_date'][mask])\n",
    "print(np.sum(mask_remove), np.sum(~mask_remove))\n",
    "ccd = ccd[~mask_remove]"
   ]
  },
  {
   "cell_type": "code",
   "execution_count": 60,
   "metadata": {},
   "outputs": [
    {
     "data": {
      "text/html": [
       "&lt;Table length=17&gt;\n",
       "<table id=\"table46913350766776\" class=\"table-striped table-bordered table-condensed\">\n",
       "<thead><tr><th>obs_date</th><th>n_exposure</th></tr></thead>\n",
       "<thead><tr><th>str10</th><th>int64</th></tr></thead>\n",
       "<tr><td>CP20170302</td><td>60</td></tr>\n",
       "<tr><td>CP20170303</td><td>59</td></tr>\n",
       "<tr><td>CP20170304</td><td>82</td></tr>\n",
       "<tr><td>CP20170305</td><td>114</td></tr>\n",
       "<tr><td>CP20170519</td><td>64</td></tr>\n",
       "<tr><td>CP20170520</td><td>86</td></tr>\n",
       "<tr><td>CP20180828</td><td>111</td></tr>\n",
       "<tr><td>CP20180829</td><td>67</td></tr>\n",
       "<tr><td>CP20180831</td><td>117</td></tr>\n",
       "<tr><td>CP20180903</td><td>96</td></tr>\n",
       "<tr><td>CP20180908</td><td>50</td></tr>\n",
       "<tr><td>CP20180913</td><td>76</td></tr>\n",
       "<tr><td>CP20180914</td><td>100</td></tr>\n",
       "<tr><td>CP20180916</td><td>115</td></tr>\n",
       "<tr><td>CP20180917</td><td>73</td></tr>\n",
       "<tr><td>CP20180920</td><td>64</td></tr>\n",
       "<tr><td>CP20180921</td><td>71</td></tr>\n",
       "</table>"
      ],
      "text/plain": [
       "<Table length=17>\n",
       " obs_date  n_exposure\n",
       "  str10      int64   \n",
       "---------- ----------\n",
       "CP20170302         60\n",
       "CP20170303         59\n",
       "CP20170304         82\n",
       "CP20170305        114\n",
       "CP20170519         64\n",
       "CP20170520         86\n",
       "CP20180828        111\n",
       "CP20180829         67\n",
       "CP20180831        117\n",
       "CP20180903         96\n",
       "CP20180908         50\n",
       "CP20180913         76\n",
       "CP20180914        100\n",
       "CP20180916        115\n",
       "CP20180917         73\n",
       "CP20180920         64\n",
       "CP20180921         71"
      ]
     },
     "execution_count": 60,
     "metadata": {},
     "output_type": "execute_result"
    }
   ],
   "source": [
    "t = Table()\n",
    "t['obs_date'], t['n_exposure'] = np.unique(ccd['obs_date'], return_counts=True)\n",
    "t"
   ]
  },
  {
   "cell_type": "code",
   "execution_count": 61,
   "metadata": {},
   "outputs": [
    {
     "data": {
      "text/plain": [
       "array(['CP20170302', 'CP20170303', 'CP20170304', 'CP20170305',\n",
       "       'CP20170519', 'CP20170520', 'CP20180828', 'CP20180829',\n",
       "       'CP20180831', 'CP20180903', 'CP20180908', 'CP20180913',\n",
       "       'CP20180914', 'CP20180916', 'CP20180917', 'CP20180920', 'CP20180921'],\n",
       "      dtype='<U10')"
      ]
     },
     "execution_count": 61,
     "metadata": {},
     "output_type": "execute_result"
    }
   ],
   "source": [
    "np.array(t['obs_date'])"
   ]
  },
  {
   "cell_type": "code",
   "execution_count": 62,
   "metadata": {},
   "outputs": [
    {
     "data": {
      "text/plain": [
       "array([ True,  True,  True,  True,  True,  True,  True,  True,  True,\n",
       "        True,  True,  True,  True,  True,  True,  True,  True], dtype=bool)"
      ]
     },
     "execution_count": 62,
     "metadata": {},
     "output_type": "execute_result"
    }
   ],
   "source": [
    "obs_date_list = ['CP20170302', 'CP20170303', 'CP20170304', 'CP20170305', 'CP20170519', 'CP20170520', 'CP20180828', 'CP20180829', 'CP20180831', 'CP20180903', 'CP20180908', 'CP20180913', 'CP20180914', 'CP20180916', 'CP20180917', 'CP20180920', 'CP20180921']\n",
    "np.in1d(t['obs_date'], obs_date_list)"
   ]
  },
  {
   "cell_type": "code",
   "execution_count": null,
   "metadata": {},
   "outputs": [],
   "source": []
  },
  {
   "cell_type": "code",
   "execution_count": null,
   "metadata": {},
   "outputs": [],
   "source": []
  },
  {
   "cell_type": "code",
   "execution_count": null,
   "metadata": {},
   "outputs": [],
   "source": []
  },
  {
   "cell_type": "code",
   "execution_count": 63,
   "metadata": {},
   "outputs": [
    {
     "name": "stdout",
     "output_type": "stream",
     "text": [
      "1148265 CCD\n",
      "0.119105781331\n",
      "136765\n",
      "136765\n",
      "86661\n",
      "Total nubmer of nights:  17\n"
     ]
    }
   ],
   "source": [
    "# Load CCD list\n",
    "ccd_columns = ['image_filename', 'image_hdu', 'expnum', 'ccdname', 'filter', 'mjd_obs', 'ra', 'dec', 'skyrms', 'ccdraoff', 'ccddecoff', 'ccd_cuts']\n",
    "ccd = fitsio.read(surveyccd_path, columns=ccd_columns)\n",
    "# ccd = fitsio.read(surveyccd_path)\n",
    "ccd = Table(ccd)\n",
    "mask = ccd['ccd_cuts']==0\n",
    "mask &= ccd['filter']=='z' # include only z-band images\n",
    "ccd = ccd[mask]\n",
    "print(len(ccd), 'CCD')\n",
    "\n",
    "# Find the CCDs whose blobmask files exist\n",
    "ccd_mask = np.zeros(len(ccd), dtype=bool)\n",
    "for ccd_index in range(len(ccd)):\n",
    "    str_loc = str.find(ccd['image_filename'][ccd_index].strip(), '.fits')\n",
    "    img_filename_base = ccd['image_filename'][ccd_index].strip()[:str_loc]\n",
    "    blob_path = os.path.join(blob_dir, 'blob_mask', img_filename_base+'-blobmask.npz')\n",
    "    if os.path.isfile(blob_path):\n",
    "        ccd_mask[ccd_index] = True\n",
    "print(np.sum(ccd_mask)/len(ccd_mask))\n",
    "ccd = ccd[ccd_mask]\n",
    "print(len(ccd))\n",
    "\n",
    "# Find CCDs around some MJD\n",
    "mask = (ccd['mjd_obs']>(57815-4)) & (ccd['mjd_obs']<(57815+4)) # DECaLS observing run starting Feb 28, 2017\n",
    "mask |= ((ccd['mjd_obs']>(58359-2)) & (ccd['mjd_obs']<(58359+27))) # Starting Aug 28, 2018\n",
    "mask |= ((ccd['mjd_obs']>(58423-2)) & (ccd['mjd_obs']<(58423+30))) # Two runs starting Oct 28, 2018\n",
    "mask |= ((ccd['mjd_obs']>(57893-2)) & (ccd['mjd_obs']<(57893+30))) # Two runs starting May 18, 2017\n",
    "ccd = ccd[mask]\n",
    "print(len(ccd))\n",
    "\n",
    "# Only use data from specific nights\n",
    "# Identify the observing date of each CCD\n",
    "str_loc = np.char.find(np.array(ccd['image_filename'], dtype='str'), '/CP201')\n",
    "ccd['obs_date'] = np.array([ccd['image_filename'][i][str_loc[i]+1:str_loc[i]+11] for i in range(len(ccd))])\n",
    "obs_date_list = ['CP20170302', 'CP20170303', 'CP20170304', 'CP20170305', 'CP20170519', 'CP20170520', \n",
    "                 'CP20180828', 'CP20180829', 'CP20180831', 'CP20180903', 'CP20180908', 'CP20180913', \n",
    "                 'CP20180914', 'CP20180916', 'CP20180917', 'CP20180920', 'CP20180921']\n",
    "mask = np.in1d(ccd['obs_date'], obs_date_list)\n",
    "ccd = ccd[mask]\n",
    "print(len(ccd))\n",
    "\n",
    "print('Total nubmer of nights: ', len(obs_date_list))"
   ]
  },
  {
   "cell_type": "code",
   "execution_count": null,
   "metadata": {},
   "outputs": [],
   "source": []
  },
  {
   "cell_type": "code",
   "execution_count": null,
   "metadata": {},
   "outputs": [],
   "source": []
  },
  {
   "cell_type": "code",
   "execution_count": null,
   "metadata": {},
   "outputs": [],
   "source": []
  },
  {
   "cell_type": "code",
   "execution_count": null,
   "metadata": {},
   "outputs": [],
   "source": []
  },
  {
   "cell_type": "code",
   "execution_count": 10,
   "metadata": {},
   "outputs": [
    {
     "name": "stdout",
     "output_type": "stream",
     "text": [
      "1148265 CCD\n",
      "164459\n",
      "93310\n",
      "0.928742900011\n",
      "86661\n",
      "Total nubmer of nights:  17\n"
     ]
    }
   ],
   "source": [
    "# Use the pre-computed nightly sky model for the computation\n",
    "\n",
    "from __future__ import division, print_function\n",
    "import sys, os, glob, time, warnings, gc\n",
    "import matplotlib\n",
    "matplotlib.use('Agg')\n",
    "import matplotlib.pyplot as plt\n",
    "import numpy as np\n",
    "from astropy.table import Table, vstack, hstack\n",
    "import fitsio\n",
    "from astropy.io import fits\n",
    "import healpy as hp\n",
    "from astropy import wcs\n",
    "\n",
    "from scipy.interpolate import interp2d\n",
    "from scipy.ndimage.filters import gaussian_filter\n",
    "\n",
    "params = {'legend.fontsize': 'large',\n",
    "         'axes.labelsize': 'large',\n",
    "         'axes.titlesize':'large',\n",
    "         'xtick.labelsize':'large',\n",
    "         'ytick.labelsize':'large',\n",
    "         'figure.facecolor':'w'} \n",
    "plt.rcParams.update(params)\n",
    "\n",
    "\n",
    "nmad = lambda x: 1.4826 * np.median(np.abs(x-np.median(x)))\n",
    "\n",
    "ccdnamenumdict = {'S1': 25, 'S2': 26, 'S3': 27, 'S4':28,\n",
    "                  'S5': 29, 'S6': 30, 'S7': 31,\n",
    "                  'S8': 19, 'S9': 20, 'S10': 21, 'S11': 22, 'S12': 23,\n",
    "                  'S13': 24,\n",
    "                  'S14': 13, 'S15': 14, 'S16': 15, 'S17': 16, 'S18': 17,\n",
    "                  'S19': 18,\n",
    "                  'S20': 8, 'S21': 9, 'S22': 10, 'S23': 11, 'S24': 12,\n",
    "                  'S25': 4, 'S26': 5, 'S27': 6, 'S28': 7,\n",
    "                  'S29': 1, 'S30': 2, 'S31': 3,\n",
    "                  'N1': 32, 'N2': 33, 'N3': 34, 'N4': 35,\n",
    "                  'N5': 36, 'N6': 37, 'N7': 38,\n",
    "                  'N8': 39, 'N9': 40, 'N10': 41, 'N11': 42, 'N12': 43,\n",
    "                  'N13': 44,\n",
    "                  'N14': 45, 'N15': 46, 'N16': 47, 'N17': 48, 'N18': 49,\n",
    "                  'N19': 50,\n",
    "                  'N20': 51, 'N21': 52, 'N22': 53, 'N23': 54, 'N24': 55,\n",
    "                  'N25': 56, 'N26': 57, 'N27': 58, 'N28': 59,\n",
    "                  'N29': 60, 'N30': 61, 'N31': 62,\n",
    "                  }\n",
    "\n",
    "fringe_dir = '/global/homes/d/djschleg/cosmo/staging/decam/DECam_CP-Fringe'\n",
    "image_dir = '/global/project/projectdirs/cosmo/staging/'\n",
    "surveyccd_path = '/global/project/projectdirs/cosmo/work/legacysurvey/dr9/survey-ccds-decam-dr9-cut.fits.gz'\n",
    "blob_dir = '/global/project/projectdirs/desi/users/rongpu/dr9/decam_ccd_blob_mask'\n",
    "\n",
    "sky_dir = '/global/project/projectdirs/desi/users/rongpu/dr9/fringe/smooth_sky'\n",
    "plot_dir = '/global/project/projectdirs/desi/users/rongpu/dr9/fringe/plots'\n",
    "output_dir = '/global/project/projectdirs/desi/users/rongpu/dr9/fringe/data'\n",
    "\n",
    "# Load CCD list\n",
    "ccd_columns = ['image_filename', 'image_hdu', 'ccdname', 'filter', 'mjd_obs', 'ccd_cuts']\n",
    "ccd = fitsio.read(surveyccd_path, columns=ccd_columns)\n",
    "# ccd = fitsio.read(surveyccd_path)\n",
    "ccd = Table(ccd)\n",
    "mask = ccd['ccd_cuts']==0\n",
    "mask &= ccd['filter']=='z' # include only z-band images\n",
    "ccd = ccd[mask]\n",
    "print(len(ccd), 'CCD')\n",
    "\n",
    "# Find CCDs around some MJD\n",
    "mask = (ccd['mjd_obs']>(57815-4)) & (ccd['mjd_obs']<(57815+4)) # DECaLS observing run starting Feb 28, 2017\n",
    "mask |= ((ccd['mjd_obs']>(58359-2)) & (ccd['mjd_obs']<(58359+27))) # Starting Aug 28, 2018\n",
    "mask |= ((ccd['mjd_obs']>(58423-2)) & (ccd['mjd_obs']<(58423+30))) # Two runs starting Oct 28, 2018\n",
    "mask |= ((ccd['mjd_obs']>(57893-2)) & (ccd['mjd_obs']<(57893+30))) # Two runs starting May 18, 2017\n",
    "ccd = ccd[mask]\n",
    "print(len(ccd))\n",
    "\n",
    "# Only use data from specific nights\n",
    "# Identify the observing date of each CCD\n",
    "str_loc = np.char.find(np.array(ccd['image_filename'], dtype='str'), '/CP201')\n",
    "ccd['obs_date'] = np.array([ccd['image_filename'][i][str_loc[i]+1:str_loc[i]+11] for i in range(len(ccd))])\n",
    "obs_date_list = ['CP20170302', 'CP20170303', 'CP20170304', 'CP20170305', 'CP20170519', 'CP20170520', \n",
    "                 'CP20180828', 'CP20180829', 'CP20180831', 'CP20180903', 'CP20180908', 'CP20180913', \n",
    "                 'CP20180914', 'CP20180916', 'CP20180917', 'CP20180920', 'CP20180921']\n",
    "mask = np.in1d(ccd['obs_date'], obs_date_list)\n",
    "ccd = ccd[mask]\n",
    "print(len(ccd))\n",
    "\n",
    "# Find the CCDs whose blobmask files exist\n",
    "ccd_mask = np.zeros(len(ccd), dtype=bool)\n",
    "for ccd_index in range(len(ccd)):\n",
    "    str_loc = str.find(ccd['image_filename'][ccd_index].strip(), '.fits')\n",
    "    img_filename_base = ccd['image_filename'][ccd_index].strip()[:str_loc]\n",
    "    blob_path = os.path.join(blob_dir, 'blob_mask', img_filename_base+'-blobmask.npz')\n",
    "    if os.path.isfile(blob_path):\n",
    "        ccd_mask[ccd_index] = True\n",
    "print(np.sum(ccd_mask)/len(ccd_mask))\n",
    "ccd = ccd[ccd_mask]\n",
    "print(len(ccd))\n",
    "\n",
    "print('Total nubmer of nights: ', len(obs_date_list))\n"
   ]
  },
  {
   "cell_type": "code",
   "execution_count": null,
   "metadata": {},
   "outputs": [],
   "source": []
  }
 ],
 "metadata": {
  "kernelspec": {
   "display_name": "DESI 18.7",
   "language": "python",
   "name": "desi-18.7"
  },
  "language_info": {
   "codemirror_mode": {
    "name": "ipython",
    "version": 3
   },
   "file_extension": ".py",
   "mimetype": "text/x-python",
   "name": "python",
   "nbconvert_exporter": "python",
   "pygments_lexer": "ipython3",
   "version": "3.6.6"
  }
 },
 "nbformat": 4,
 "nbformat_minor": 2
}
