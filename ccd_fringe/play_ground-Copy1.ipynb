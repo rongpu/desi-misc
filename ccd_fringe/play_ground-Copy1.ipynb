{
 "cells": [
  {
   "cell_type": "markdown",
   "metadata": {},
   "source": [
    "Find exposures of a single night"
   ]
  },
  {
   "cell_type": "code",
   "execution_count": 1,
   "metadata": {},
   "outputs": [],
   "source": [
    "from __future__ import division, print_function\n",
    "import sys, os, glob, time, warnings, gc\n",
    "import matplotlib.pyplot as plt\n",
    "import numpy as np\n",
    "from astropy.table import Table, vstack, hstack\n",
    "import fitsio\n",
    "from astropy.io import fits\n",
    "import healpy as hp\n",
    "from astropy import wcs"
   ]
  },
  {
   "cell_type": "code",
   "execution_count": 2,
   "metadata": {},
   "outputs": [],
   "source": [
    "params = {'legend.fontsize': 'large',\n",
    "         'axes.labelsize': 'large',\n",
    "         'axes.titlesize':'large',\n",
    "         'xtick.labelsize':'large',\n",
    "         'ytick.labelsize':'large',\n",
    "         'figure.facecolor':'w'} \n",
    "plt.rcParams.update(params)"
   ]
  },
  {
   "cell_type": "code",
   "execution_count": 4,
   "metadata": {},
   "outputs": [],
   "source": [
    "a = np.random.choice(10, size=100)\n",
    "a_uniq, n = np.unique(a, return_counts=True)"
   ]
  },
  {
   "cell_type": "code",
   "execution_count": 8,
   "metadata": {},
   "outputs": [
    {
     "data": {
      "text/plain": [
       "array([0, 8, 0, 3, 0, 2, 4, 7, 8, 6, 2, 3, 1, 6, 3, 1, 9, 6, 9, 1, 2, 8,\n",
       "       1, 0, 0, 1, 7, 3, 8, 9, 9, 1, 4, 2, 8, 9, 4, 4, 1, 9, 6, 3, 5, 5,\n",
       "       5, 0, 1, 3, 0, 3, 0, 9, 9, 6, 5, 8, 0, 4, 1, 1, 7, 7, 1, 4, 9, 4,\n",
       "       9, 4, 9, 0, 5, 4, 6, 6, 4, 1, 8, 1, 0, 6, 4, 1, 7, 3, 2, 9, 3, 5,\n",
       "       2, 7, 9, 0, 3, 8, 5, 2, 5, 9, 8, 4])"
      ]
     },
     "execution_count": 8,
     "metadata": {},
     "output_type": "execute_result"
    }
   ],
   "source": [
    "a"
   ]
  },
  {
   "cell_type": "code",
   "execution_count": 5,
   "metadata": {},
   "outputs": [
    {
     "data": {
      "text/plain": [
       "array([0, 1, 2, 3, 4, 5, 6, 7, 8, 9])"
      ]
     },
     "execution_count": 5,
     "metadata": {},
     "output_type": "execute_result"
    }
   ],
   "source": [
    "a_uniq"
   ]
  },
  {
   "cell_type": "code",
   "execution_count": 6,
   "metadata": {},
   "outputs": [
    {
     "data": {
      "text/plain": [
       "array([12, 14,  7, 10, 12,  8,  8,  6,  9, 14])"
      ]
     },
     "execution_count": 6,
     "metadata": {},
     "output_type": "execute_result"
    }
   ],
   "source": [
    "n"
   ]
  },
  {
   "cell_type": "code",
   "execution_count": 7,
   "metadata": {},
   "outputs": [
    {
     "data": {
      "text/plain": [
       "array([7, 2, 5, 6, 8, 3, 0, 4, 1, 9])"
      ]
     },
     "execution_count": 7,
     "metadata": {},
     "output_type": "execute_result"
    }
   ],
   "source": [
    "a_uniq[np.argsort(n)]"
   ]
  },
  {
   "cell_type": "markdown",
   "metadata": {},
   "source": [
    "-------"
   ]
  },
  {
   "cell_type": "code",
   "execution_count": 24,
   "metadata": {},
   "outputs": [
    {
     "name": "stdout",
     "output_type": "stream",
     "text": [
      "5000\n"
     ]
    },
    {
     "data": {
      "text/html": [
       "<i>Table length=3</i>\n",
       "<table id=\"table140523680363296\" class=\"table-striped table-bordered table-condensed\">\n",
       "<thead><tr><th>TARGETID</th><th>PETAL_LOC</th><th>DEVICE_LOC</th><th>LOCATION</th><th>FIBER</th><th>FIBERSTATUS</th><th>TARGET_RA</th><th>TARGET_DEC</th><th>PMRA</th><th>PMDEC</th><th>PMRA_IVAR</th><th>PMDEC_IVAR</th><th>REF_EPOCH</th><th>LAMBDA_REF</th><th>FA_TARGET</th><th>FA_TYPE</th><th>OBJTYPE</th><th>FIBERASSIGN_X</th><th>FIBERASSIGN_Y</th><th>NUMTARGET</th><th>PRIORITY</th><th>SUBPRIORITY</th><th>OBSCONDITIONS</th><th>NUMOBS_MORE</th><th>RELEASE</th><th>BRICKID</th><th>BRICKNAME</th><th>BRICK_OBJID</th><th>MORPHTYPE</th><th>TARGET_RA_IVAR</th><th>TARGET_DEC_IVAR</th><th>EBV</th><th>FLUX_G</th><th>FLUX_R</th><th>FLUX_Z</th><th>FLUX_IVAR_G</th><th>FLUX_IVAR_R</th><th>FLUX_IVAR_Z</th><th>MW_TRANSMISSION_G</th><th>MW_TRANSMISSION_R</th><th>MW_TRANSMISSION_Z</th><th>FRACFLUX_G</th><th>FRACFLUX_R</th><th>FRACFLUX_Z</th><th>FRACMASKED_G</th><th>FRACMASKED_R</th><th>FRACMASKED_Z</th><th>FRACIN_G</th><th>FRACIN_R</th><th>FRACIN_Z</th><th>NOBS_G</th><th>NOBS_R</th><th>NOBS_Z</th><th>PSFDEPTH_G</th><th>PSFDEPTH_R</th><th>PSFDEPTH_Z</th><th>GALDEPTH_G</th><th>GALDEPTH_R</th><th>GALDEPTH_Z</th><th>FLUX_W1</th><th>FLUX_W2</th><th>FLUX_W3</th><th>FLUX_W4</th><th>FLUX_IVAR_W1</th><th>FLUX_IVAR_W2</th><th>FLUX_IVAR_W3</th><th>FLUX_IVAR_W4</th><th>MW_TRANSMISSION_W1</th><th>MW_TRANSMISSION_W2</th><th>MW_TRANSMISSION_W3</th><th>MW_TRANSMISSION_W4</th><th>ALLMASK_G</th><th>ALLMASK_R</th><th>ALLMASK_Z</th><th>FIBERFLUX_G</th><th>FIBERFLUX_R</th><th>FIBERFLUX_Z</th><th>FIBERTOTFLUX_G</th><th>FIBERTOTFLUX_R</th><th>FIBERTOTFLUX_Z</th><th>WISEMASK_W1</th><th>WISEMASK_W2</th><th>MASKBITS</th><th>FRACDEV</th><th>FRACDEV_IVAR</th><th>SHAPEDEV_R</th><th>SHAPEDEV_E1</th><th>SHAPEDEV_E2</th><th>SHAPEDEV_R_IVAR</th><th>SHAPEDEV_E1_IVAR</th><th>SHAPEDEV_E2_IVAR</th><th>SHAPEEXP_R</th><th>SHAPEEXP_E1</th><th>SHAPEEXP_E2</th><th>SHAPEEXP_R_IVAR</th><th>SHAPEEXP_E1_IVAR</th><th>SHAPEEXP_E2_IVAR</th><th>REF_ID</th><th>REF_CAT</th><th>GAIA_PHOT_G_MEAN_MAG</th><th>GAIA_PHOT_G_MEAN_FLUX_OVER_ERROR</th><th>GAIA_PHOT_BP_MEAN_MAG</th><th>GAIA_PHOT_BP_MEAN_FLUX_OVER_ERROR</th><th>GAIA_PHOT_RP_MEAN_MAG</th><th>GAIA_PHOT_RP_MEAN_FLUX_OVER_ERROR</th><th>GAIA_PHOT_BP_RP_EXCESS_FACTOR</th><th>GAIA_ASTROMETRIC_EXCESS_NOISE</th><th>GAIA_DUPLICATED_SOURCE</th><th>GAIA_ASTROMETRIC_SIGMA5D_MAX</th><th>GAIA_ASTROMETRIC_PARAMS_SOLVED</th><th>PARALLAX</th><th>PARALLAX_IVAR</th><th>PHOTSYS</th><th>CMX_TARGET</th><th>PRIORITY_INIT</th><th>NUMOBS_INIT</th><th>HPXPIXEL</th><th>BLOBDIST</th><th>FIBERFLUX_IVAR_G</th><th>FIBERFLUX_IVAR_R</th><th>FIBERFLUX_IVAR_Z</th><th>DESI_TARGET</th><th>BGS_TARGET</th><th>MWS_TARGET</th></tr></thead>\n",
       "<thead><tr><th>int64</th><th>int16</th><th>int32</th><th>int32</th><th>int32</th><th>int32</th><th>float64</th><th>float64</th><th>float32</th><th>float32</th><th>float32</th><th>float32</th><th>float32</th><th>float32</th><th>int64</th><th>uint8</th><th>bytes3</th><th>float32</th><th>float32</th><th>int16</th><th>int32</th><th>float64</th><th>int32</th><th>int32</th><th>int16</th><th>int32</th><th>bytes8</th><th>int32</th><th>bytes4</th><th>float32</th><th>float32</th><th>float32</th><th>float32</th><th>float32</th><th>float32</th><th>float32</th><th>float32</th><th>float32</th><th>float32</th><th>float32</th><th>float32</th><th>float32</th><th>float32</th><th>float32</th><th>float32</th><th>float32</th><th>float32</th><th>float32</th><th>float32</th><th>float32</th><th>int16</th><th>int16</th><th>int16</th><th>float32</th><th>float32</th><th>float32</th><th>float32</th><th>float32</th><th>float32</th><th>float32</th><th>float32</th><th>float32</th><th>float32</th><th>float32</th><th>float32</th><th>float32</th><th>float32</th><th>float32</th><th>float32</th><th>float32</th><th>float32</th><th>int16</th><th>int16</th><th>int16</th><th>float32</th><th>float32</th><th>float32</th><th>float32</th><th>float32</th><th>float32</th><th>uint8</th><th>uint8</th><th>int16</th><th>float32</th><th>float32</th><th>float32</th><th>float32</th><th>float32</th><th>float32</th><th>float32</th><th>float32</th><th>float32</th><th>float32</th><th>float32</th><th>float32</th><th>float32</th><th>float32</th><th>int64</th><th>bytes2</th><th>float32</th><th>float32</th><th>float32</th><th>float32</th><th>float32</th><th>float32</th><th>float32</th><th>float32</th><th>bool</th><th>float32</th><th>bool</th><th>float32</th><th>float32</th><th>bytes1</th><th>int64</th><th>int64</th><th>int64</th><th>int64</th><th>float32</th><th>float32</th><th>float32</th><th>float32</th><th>int64</th><th>int64</th><th>int64</th></tr></thead>\n",
       "<tr><td>35185740249827744</td><td>0</td><td>311</td><td>311</td><td>0</td><td>0</td><td>36.830556528973695</td><td>-0.8010145877601095</td><td>0.0</td><td>0.0</td><td>0.0</td><td>0.0</td><td>0.0</td><td>5400.0</td><td>3072</td><td>1</td><td>TGT</td><td>79.903755</td><td>-286.44708</td><td>0</td><td>146</td><td>0.8079579987132303</td><td>65535</td><td>19</td><td>8000</td><td>326195</td><td>0368m007</td><td>2464</td><td>REX</td><td>25757385000.0</td><td>25859090000.0</td><td>0.03180336</td><td>0.8608838</td><td>1.5394902</td><td>5.6608167</td><td>611.16113</td><td>425.2658</td><td>42.31885</td><td>0.9101513</td><td>0.9385519</td><td>0.96514916</td><td>0.00613167</td><td>0.007525211</td><td>0.4922325</td><td>0.011950016</td><td>0.010585088</td><td>0.009871053</td><td>0.83077705</td><td>0.9971594</td><td>0.7972685</td><td>5</td><td>5</td><td>4</td><td>1982.893</td><td>1734.826</td><td>187.73157</td><td>1181.5708</td><td>890.0534</td><td>89.91916</td><td>25.300037</td><td>16.866125</td><td>32.977318</td><td>-429.58725</td><td>2.6010594</td><td>0.50518095</td><td>0.0013788524</td><td>2.0099335e-05</td><td>0.9946248</td><td>0.99669546</td><td>0.99929434</td><td>0.9997335</td><td>0</td><td>0</td><td>0</td><td>0.28532845</td><td>0.5102435</td><td>1.8762021</td><td>0.28532845</td><td>0.5102435</td><td>1.8762021</td><td>0</td><td>0</td><td>0</td><td>0.0</td><td>0.0</td><td>0.0</td><td>0.0</td><td>0.0</td><td>0.0</td><td>0.0</td><td>0.0</td><td>0.85505587</td><td>0.0</td><td>0.0</td><td>2644.176</td><td>0.0</td><td>0.0</td><td>0</td><td></td><td>0.0</td><td>0.0</td><td>0.0</td><td>0.0</td><td>0.0</td><td>0.0</td><td>0.0</td><td>0.0</td><td>False</td><td>0.0</td><td>False</td><td>0.0</td><td>0.0</td><td>S</td><td>3072</td><td>146</td><td>1</td><td>17763</td><td>0.0</td><td>0.0</td><td>0.0</td><td>0.0</td><td>0</td><td>0</td><td>0</td></tr>\n",
       "<tr><td>35185740249829229</td><td>0</td><td>272</td><td>272</td><td>1</td><td>0</td><td>36.92128734054688</td><td>-0.7627545447260339</td><td>0.0</td><td>0.0</td><td>0.0</td><td>0.0</td><td>0.0</td><td>5400.0</td><td>1280</td><td>1</td><td>TGT</td><td>57.172874</td><td>-276.3174</td><td>0</td><td>154</td><td>0.6574058825949336</td><td>65535</td><td>19</td><td>8000</td><td>326195</td><td>0368m007</td><td>3949</td><td>DEV</td><td>2174581000000.0</td><td>2028861100000.0</td><td>0.034109414</td><td>12.032043</td><td>35.077988</td><td>68.693634</td><td>168.1684</td><td>92.40404</td><td>13.606858</td><td>0.90395945</td><td>0.934246</td><td>0.9626699</td><td>0.0</td><td>0.0</td><td>0.0</td><td>0.05223402</td><td>0.10060272</td><td>0.046049297</td><td>0.9104515</td><td>0.9222559</td><td>0.91516805</td><td>4</td><td>4</td><td>4</td><td>1697.0106</td><td>1289.1819</td><td>145.96317</td><td>988.6826</td><td>695.0369</td><td>73.99371</td><td>103.67042</td><td>75.87803</td><td>59.655083</td><td>228.50813</td><td>1.6677758</td><td>0.34116018</td><td>0.0011060586</td><td>1.8299814e-05</td><td>0.9942362</td><td>0.99645627</td><td>0.99924314</td><td>0.99971414</td><td>0</td><td>0</td><td>0</td><td>2.685756</td><td>7.830001</td><td>15.333582</td><td>2.685756</td><td>7.830001</td><td>15.333582</td><td>32</td><td>0</td><td>256</td><td>1.0</td><td>1.0</td><td>1.8791847</td><td>0.021092732</td><td>-0.0782852</td><td>21280.402</td><td>63731.176</td><td>116984.07</td><td>0.0</td><td>0.0</td><td>0.0</td><td>0.0</td><td>0.0</td><td>0.0</td><td>0</td><td></td><td>0.0</td><td>0.0</td><td>0.0</td><td>0.0</td><td>0.0</td><td>0.0</td><td>0.0</td><td>0.0</td><td>False</td><td>0.0</td><td>False</td><td>0.0</td><td>0.0</td><td>S</td><td>1280</td><td>154</td><td>1</td><td>17763</td><td>0.0</td><td>0.0</td><td>0.0</td><td>0.0</td><td>0</td><td>0</td><td>0</td></tr>\n",
       "<tr><td>35185740254023729</td><td>0</td><td>252</td><td>252</td><td>2</td><td>0</td><td>37.02057003031434</td><td>-0.7364087815183507</td><td>0.0</td><td>0.0</td><td>0.0</td><td>0.0</td><td>0.0</td><td>5400.0</td><td>1024</td><td>1</td><td>TGT</td><td>32.4535</td><td>-269.38235</td><td>0</td><td>148</td><td>0.48313337308731585</td><td>65535</td><td>19</td><td>8000</td><td>326196</td><td>0371m007</td><td>4145</td><td>EXP</td><td>631658300000.0</td><td>596203800000.0</td><td>0.030988697</td><td>1.0316103</td><td>4.2964954</td><td>10.909436</td><td>1527.3287</td><td>1126.5518</td><td>100.29412</td><td>0.91234887</td><td>0.9400778</td><td>0.9660266</td><td>0.018846525</td><td>0.0017320733</td><td>0.003411501</td><td>0.0062132096</td><td>0.005525716</td><td>0.008489703</td><td>0.87307936</td><td>0.9965886</td><td>0.8558808</td><td>7</td><td>8</td><td>6</td><td>2929.8533</td><td>2680.1157</td><td>215.33524</td><td>1741.1013</td><td>1425.3341</td><td>110.373604</td><td>21.772774</td><td>19.280401</td><td>65.70642</td><td>-1129.5121</td><td>2.630395</td><td>0.5068578</td><td>0.0014056477</td><td>1.910225e-05</td><td>0.9947621</td><td>0.99678</td><td>0.9993124</td><td>0.9997403</td><td>0</td><td>0</td><td>0</td><td>0.5495156</td><td>2.2886467</td><td>5.811211</td><td>0.5495389</td><td>2.2887206</td><td>5.8116636</td><td>0</td><td>0</td><td>0</td><td>0.0</td><td>0.0</td><td>0.0</td><td>0.0</td><td>0.0</td><td>0.0</td><td>0.0</td><td>0.0</td><td>0.62730545</td><td>0.040620968</td><td>0.36095497</td><td>26527.264</td><td>6555.9395</td><td>8755.574</td><td>0</td><td></td><td>0.0</td><td>0.0</td><td>0.0</td><td>0.0</td><td>0.0</td><td>0.0</td><td>0.0</td><td>0.0</td><td>False</td><td>0.0</td><td>False</td><td>0.0</td><td>0.0</td><td>S</td><td>1024</td><td>148</td><td>1</td><td>17763</td><td>0.0</td><td>0.0</td><td>0.0</td><td>0.0</td><td>0</td><td>0</td><td>0</td></tr>\n",
       "</table>"
      ],
      "text/plain": [
       "<Table length=3>\n",
       "     TARGETID     PETAL_LOC DEVICE_LOC ... DESI_TARGET BGS_TARGET MWS_TARGET\n",
       "      int64         int16     int32    ...    int64      int64      int64   \n",
       "----------------- --------- ---------- ... ----------- ---------- ----------\n",
       "35185740249827744         0        311 ...           0          0          0\n",
       "35185740249829229         0        272 ...           0          0          0\n",
       "35185740254023729         0        252 ...           0          0          0"
      ]
     },
     "execution_count": 24,
     "metadata": {},
     "output_type": "execute_result"
    }
   ],
   "source": [
    "cat = Table.read('/Users/rongpu/Downloads/fiberassign-063519.fits', hdu=1)\n",
    "print(len(cat))\n",
    "cat[:3]"
   ]
  },
  {
   "cell_type": "code",
   "execution_count": 54,
   "metadata": {},
   "outputs": [
    {
     "data": {
      "text/plain": [
       "'TARGETID PETAL_LOC DEVICE_LOC LOCATION FIBER FIBERSTATUS TARGET_RA TARGET_DEC PMRA PMDEC PMRA_IVAR PMDEC_IVAR REF_EPOCH LAMBDA_REF FA_TARGET FA_TYPE OBJTYPE FIBERASSIGN_X FIBERASSIGN_Y NUMTARGET PRIORITY SUBPRIORITY OBSCONDITIONS NUMOBS_MORE RELEASE BRICKID BRICKNAME BRICK_OBJID MORPHTYPE TARGET_RA_IVAR TARGET_DEC_IVAR EBV FLUX_G FLUX_R FLUX_Z FLUX_IVAR_G FLUX_IVAR_R FLUX_IVAR_Z MW_TRANSMISSION_G MW_TRANSMISSION_R MW_TRANSMISSION_Z FRACFLUX_G FRACFLUX_R FRACFLUX_Z FRACMASKED_G FRACMASKED_R FRACMASKED_Z FRACIN_G FRACIN_R FRACIN_Z NOBS_G NOBS_R NOBS_Z PSFDEPTH_G PSFDEPTH_R PSFDEPTH_Z GALDEPTH_G GALDEPTH_R GALDEPTH_Z FLUX_W1 FLUX_W2 FLUX_W3 FLUX_W4 FLUX_IVAR_W1 FLUX_IVAR_W2 FLUX_IVAR_W3 FLUX_IVAR_W4 MW_TRANSMISSION_W1 MW_TRANSMISSION_W2 MW_TRANSMISSION_W3 MW_TRANSMISSION_W4 ALLMASK_G ALLMASK_R ALLMASK_Z FIBERFLUX_G FIBERFLUX_R FIBERFLUX_Z FIBERTOTFLUX_G FIBERTOTFLUX_R FIBERTOTFLUX_Z WISEMASK_W1 WISEMASK_W2 MASKBITS FRACDEV FRACDEV_IVAR SHAPEDEV_R SHAPEDEV_E1 SHAPEDEV_E2 SHAPEDEV_R_IVAR SHAPEDEV_E1_IVAR SHAPEDEV_E2_IVAR SHAPEEXP_R SHAPEEXP_E1 SHAPEEXP_E2 SHAPEEXP_R_IVAR SHAPEEXP_E1_IVAR SHAPEEXP_E2_IVAR REF_ID REF_CAT GAIA_PHOT_G_MEAN_MAG GAIA_PHOT_G_MEAN_FLUX_OVER_ERROR GAIA_PHOT_BP_MEAN_MAG GAIA_PHOT_BP_MEAN_FLUX_OVER_ERROR GAIA_PHOT_RP_MEAN_MAG GAIA_PHOT_RP_MEAN_FLUX_OVER_ERROR GAIA_PHOT_BP_RP_EXCESS_FACTOR GAIA_ASTROMETRIC_EXCESS_NOISE GAIA_DUPLICATED_SOURCE GAIA_ASTROMETRIC_SIGMA5D_MAX GAIA_ASTROMETRIC_PARAMS_SOLVED PARALLAX PARALLAX_IVAR PHOTSYS CMX_TARGET PRIORITY_INIT NUMOBS_INIT HPXPIXEL BLOBDIST FIBERFLUX_IVAR_G FIBERFLUX_IVAR_R FIBERFLUX_IVAR_Z DESI_TARGET BGS_TARGET MWS_TARGET'"
      ]
     },
     "execution_count": 54,
     "metadata": {},
     "output_type": "execute_result"
    }
   ],
   "source": [
    "' '.join(cat.colnames)"
   ]
  },
  {
   "cell_type": "code",
   "execution_count": 27,
   "metadata": {},
   "outputs": [
    {
     "name": "stderr",
     "output_type": "stream",
     "text": [
      "/Users/rongpu/miniconda3/lib/python3.7/site-packages/ipykernel_launcher.py:2: RuntimeWarning: invalid value encountered in subtract\n",
      "  \n"
     ]
    },
    {
     "data": {
      "image/png": "[encoded data removed]",
      "text/plain": [
       "<Figure size 720x576 with 1 Axes>"
      ]
     },
     "metadata": {},
     "output_type": "display_data"
    }
   ],
   "source": [
    "plt.figure(figsize=(10, 8))\n",
    "plt.plot(cat['rmag']-cat['zmag'], cat['zmag']-cat['w1mag'], '.', ms=1)\n",
    "plt.show()"
   ]
  },
  {
   "cell_type": "code",
   "execution_count": 46,
   "metadata": {},
   "outputs": [],
   "source": [
    "import yaml\n",
    "\n",
    "with open('/Users/rongpu/Downloads/cmx_targetmask.yaml') as file:\n",
    "    tmp = yaml.load(file, Loader=yaml.FullLoader)\n",
    "# print(tmp.keys())\n",
    "\n",
    "mask_names = []\n",
    "mask_bits = []\n",
    "for index in range(len(tmp['cmx_mask'])):\n",
    "    mask_names.append(tmp['cmx_mask'][index][0])\n",
    "    mask_bits.append(tmp['cmx_mask'][index][1])\n",
    "\n",
    "def bitmask_summary(mask_values, mask_names, bits):\n",
    "    mask_values = np.array(mask_values, dtype=np.uint64)\n",
    "    t = Table()\n",
    "    t['name'] = np.concatenate([['None'], mask_names])\n",
    "    t['bit'] = np.concatenate([[-1], bits])\n",
    "    t['count'] = 0\n",
    "    t['count'][0] = np.sum(mask_values==0)\n",
    "    for index in range(len(bits)):\n",
    "        bit = bits[index]\n",
    "        t['count'][index+1] = np.sum(mask_values & (2**bit)>0)\n",
    "    t['frac (%)'] = t['count']/len(mask_values)*100\n",
    "    t['frac (%)'].format = \"%.3f\"\n",
    "    return t"
   ]
  },
  {
   "cell_type": "code",
   "execution_count": 47,
   "metadata": {},
   "outputs": [
    {
     "data": {
      "text/plain": [
       "['STD_GAIA',\n",
       " 'SV0_STD_FAINT',\n",
       " 'SV0_STD_BRIGHT',\n",
       " 'STD_TEST',\n",
       " 'STD_CALSPEC',\n",
       " 'STD_DITHER',\n",
       " 'SV0_BGS',\n",
       " 'SV0_MWS',\n",
       " 'SV0_LRG',\n",
       " 'SV0_ELG',\n",
       " 'SV0_QSO',\n",
       " 'SV0_WD',\n",
       " 'BACKUP_BRIGHT',\n",
       " 'BACKUP_FAINT',\n",
       " 'M31_STD_BRIGHT',\n",
       " 'M31_H2PN',\n",
       " 'M31_GC',\n",
       " 'M31_QSO',\n",
       " 'M31_VAR',\n",
       " 'M31_BSPL',\n",
       " 'M31_M31cen',\n",
       " 'M31_M31out',\n",
       " 'ORI_STD_BRIGHT',\n",
       " 'ORI_QSO',\n",
       " 'ORI_ORI',\n",
       " 'ORI_HA',\n",
       " 'ROS_STD_BRIGHT',\n",
       " 'ROS_QSO',\n",
       " 'ROS_ROSM17',\n",
       " 'ROS_ROS1',\n",
       " 'ROS_HA',\n",
       " 'ROS_ROS2',\n",
       " 'M33_STD_BRIGHT',\n",
       " 'M33_H2PN',\n",
       " 'M33_GC',\n",
       " 'M33_QSO',\n",
       " 'M33_M33cen',\n",
       " 'M33_M33out',\n",
       " 'SKY',\n",
       " 'STD_FAINT',\n",
       " 'STD_BRIGHT',\n",
       " 'BAD_SKY',\n",
       " 'SUPP_SKY']"
      ]
     },
     "execution_count": 47,
     "metadata": {},
     "output_type": "execute_result"
    }
   ],
   "source": [
    "mask_names"
   ]
  },
  {
   "cell_type": "code",
   "execution_count": 49,
   "metadata": {},
   "outputs": [],
   "source": [
    "res = bitmask_summary(cat['CMX_TARGET'], mask_names, mask_bits)"
   ]
  },
  {
   "cell_type": "code",
   "execution_count": 53,
   "metadata": {},
   "outputs": [
    {
     "data": {
      "text/plain": [
       "0.4896"
      ]
     },
     "execution_count": 53,
     "metadata": {},
     "output_type": "execute_result"
    }
   ],
   "source": [
    "mask = cat['CMX_TARGET'] & (2**10) > 0\n",
    "np.sum(mask)/len(mask)"
   ]
  },
  {
   "cell_type": "code",
   "execution_count": 50,
   "metadata": {},
   "outputs": [
    {
     "name": "stdout",
     "output_type": "stream",
     "text": [
      "     name      bit count frac (%)\n",
      "-------------- --- ----- --------\n",
      "          None  -1   899   17.980\n",
      "      STD_GAIA   0   806   16.120\n",
      " SV0_STD_FAINT   1   149    2.980\n",
      "SV0_STD_BRIGHT   2   104    2.080\n",
      "      STD_TEST   3    87    1.740\n",
      "   STD_CALSPEC   4     0    0.000\n",
      "    STD_DITHER   5   948   18.960\n",
      "       SV0_BGS   8   706   14.120\n",
      "       SV0_MWS   9   522   10.440\n",
      "       SV0_LRG  10  2448   48.960\n",
      "       SV0_ELG  11   266    5.320\n",
      "       SV0_QSO  12   769   15.380\n",
      "        SV0_WD  13     0    0.000\n",
      " BACKUP_BRIGHT  16     0    0.000\n",
      "  BACKUP_FAINT  17     0    0.000\n",
      "M31_STD_BRIGHT  18     0    0.000\n",
      "      M31_H2PN  19     0    0.000\n",
      "        M31_GC  20     0    0.000\n",
      "       M31_QSO  21     0    0.000\n",
      "       M31_VAR  22     0    0.000\n",
      "      M31_BSPL  23     0    0.000\n",
      "    M31_M31cen  24     0    0.000\n",
      "    M31_M31out  25     0    0.000\n",
      "ORI_STD_BRIGHT  26     0    0.000\n",
      "       ORI_QSO  27     0    0.000\n",
      "       ORI_ORI  28     0    0.000\n",
      "        ORI_HA  29     0    0.000\n",
      "ROS_STD_BRIGHT  30     0    0.000\n",
      "       ROS_QSO  31     0    0.000\n",
      "    ROS_ROSM17  38     0    0.000\n",
      "      ROS_ROS1  39     0    0.000\n",
      "        ROS_HA  40     0    0.000\n",
      "      ROS_ROS2  41     0    0.000\n",
      "M33_STD_BRIGHT  42     0    0.000\n",
      "      M33_H2PN  43     0    0.000\n",
      "        M33_GC  44     0    0.000\n",
      "       M33_QSO  45     0    0.000\n",
      "    M33_M33cen  46     0    0.000\n",
      "    M33_M33out  47     0    0.000\n",
      "           SKY  32     0    0.000\n",
      "     STD_FAINT  33   149    2.980\n",
      "    STD_BRIGHT  35   104    2.080\n",
      "       BAD_SKY  36     0    0.000\n",
      "      SUPP_SKY  37     0    0.000\n"
     ]
    }
   ],
   "source": [
    "res.pprint_all()"
   ]
  },
  {
   "cell_type": "code",
   "execution_count": null,
   "metadata": {},
   "outputs": [],
   "source": []
  }
 ],
 "metadata": {
  "kernelspec": {
   "display_name": "Python 3",
   "language": "python",
   "name": "python3"
  },
  "language_info": {
   "codemirror_mode": {
    "name": "ipython",
    "version": 3
   },
   "file_extension": ".py",
   "mimetype": "text/x-python",
   "name": "python",
   "nbconvert_exporter": "python",
   "pygments_lexer": "ipython3",
   "version": "3.7.3"
  }
 },
 "nbformat": 4,
 "nbformat_minor": 2
}
