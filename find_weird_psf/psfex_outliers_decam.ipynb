{
 "cells": [
  {
   "cell_type": "code",
   "execution_count": 1,
   "metadata": {},
   "outputs": [],
   "source": [
    "from __future__ import division, print_function\n",
    "import sys, os, glob, time, warnings, gc\n",
    "import numpy as np\n",
    "import matplotlib.pyplot as plt\n",
    "from astropy.table import Table, vstack, hstack\n",
    "import fitsio\n",
    "# from astropy.io import fits"
   ]
  },
  {
   "cell_type": "code",
   "execution_count": 2,
   "metadata": {},
   "outputs": [],
   "source": [
    "params = {'legend.fontsize': 'large',\n",
    "         'axes.labelsize': 'large',\n",
    "         'axes.titlesize':'large',\n",
    "         'xtick.labelsize':'large',\n",
    "         'ytick.labelsize':'large',\n",
    "         'figure.facecolor':'w'} \n",
    "plt.rcParams.update(params)"
   ]
  },
  {
   "cell_type": "code",
   "execution_count": 3,
   "metadata": {},
   "outputs": [],
   "source": [
    "pixscale = 0.262\n",
    "# pixscale = 0.454\n",
    "psfex_dir = '/global/cfs/cdirs/cosmo/work/legacysurvey/dr9k/calib/psfex'\n",
    "\n",
    "surveyccd_path = '/global/project/projectdirs/cosmo/work/legacysurvey/dr9/survey-ccds-decam-dr9.fits.gz'\n",
    "# surveyccd_path = '/global/project/projectdirs/cosmo/work/legacysurvey/dr9/survey-ccds-mosaic-dr9.fits.gz'\n",
    "# surveyccd_path = '/global/project/projectdirs/cosmo/work/legacysurvey/dr9/survey-ccds-90prime-dr9.fits.gz'\n",
    "# image_path_list = glob.glob(os.path.join(image_dir, '*ooi*.fits.fz'))\n",
    "ccd = Table(fitsio.read(surveyccd_path, columns=['filter', 'expnum', 'image_filename', 'ccd_cuts', 'fwhm']))"
   ]
  },
  {
   "cell_type": "code",
   "execution_count": 5,
   "metadata": {},
   "outputs": [
    {
     "data": {
      "text/html": [
       "&lt;Table length=1&gt;\n",
       "<table id=\"table46913343324288\" class=\"table-striped table-bordered table-condensed\">\n",
       "<thead><tr><th>image_filename</th><th>expnum</th><th>filter</th><th>fwhm</th><th>ccd_cuts</th></tr></thead>\n",
       "<thead><tr><th>bytes120</th><th>int64</th><th>bytes1</th><th>float32</th><th>int64</th></tr></thead>\n",
       "<tr><td>decam/CP/V4.8.2a/CP20130831/c4d_130831_235507_ooi_g_ls9.fits.fz</td><td>229250</td><td>g</td><td>4.52623</td><td>0</td></tr>\n",
       "</table>"
      ],
      "text/plain": [
       "<Table length=1>\n",
       "                                                     image_filename                                                      ...\n",
       "                                                        bytes120                                                         ...\n",
       "------------------------------------------------------------------------------------------------------------------------ ...\n",
       "decam/CP/V4.8.2a/CP20130831/c4d_130831_235507_ooi_g_ls9.fits.fz                                                          ..."
      ]
     },
     "execution_count": 5,
     "metadata": {},
     "output_type": "execute_result"
    }
   ],
   "source": [
    "ccd[:1]"
   ]
  },
  {
   "cell_type": "code",
   "execution_count": null,
   "metadata": {},
   "outputs": [],
   "source": [
    "# np.random.seed(681)\n",
    "# ccd_index_list = np.random.choice(len(ccd), size=10000, replace=False)\n",
    "\n",
    "# frac_list = []\n",
    "# for ccd_index in ccd_index_list:\n",
    "#     image_filename = ccd['image_filename'][ccd_index]\n",
    "#     psfex_filename = image_filename.replace('.fits.fz', '-psfex.fits')\n",
    "#     psfex_path = os.path.join(psfex_dir, psfex_filename)\n",
    "#     data = Table(fitsio.read(psfex_path, ext=1))\n",
    "\n",
    "#     psf = np.array(data['psf_mask'][0, 0])\n",
    "\n",
    "#     grid = pixscale * np.linspace(-0.5*(psf.shape[0]-1), 0.5*(psf.shape[0]-1), psf.shape[0])\n",
    "#     xx, yy = np.meshgrid(grid, grid)\n",
    "#     radius_grid = np.sqrt(xx**2 + yy**2)\n",
    "\n",
    "#     mask = radius_grid>3.0\n",
    "#     frac_list.append(np.sum(np.sum(psf[mask])/np.sum(psf)))\n",
    "# frac_list = np.array(frac_list)"
   ]
  },
  {
   "cell_type": "code",
   "execution_count": null,
   "metadata": {
    "scrolled": true
   },
   "outputs": [],
   "source": [
    "frac_list = np.zeros(len(ccd))\n",
    "fwhm_list = np.zeros(len(ccd))\n",
    "for ccd_index in range(len(ccd)):\n",
    "    if ccd_index%1000==0:\n",
    "        print(ccd_index, len(ccd))\n",
    "    image_filename = ccd['image_filename'][ccd_index]\n",
    "    psfex_filename = image_filename.replace('.fits.fz', '-psfex.fits')\n",
    "    psfex_path = os.path.join(psfex_dir, psfex_filename)\n",
    "    data = Table(fitsio.read(psfex_path, ext=1))\n",
    "\n",
    "    psf = np.array(data['psf_mask'][0, 0])\n",
    "\n",
    "    grid = pixscale * np.linspace(-0.5*(psf.shape[0]-1), 0.5*(psf.shape[0]-1), psf.shape[0])\n",
    "    xx, yy = np.meshgrid(grid, grid)\n",
    "    radius_grid = np.sqrt(xx**2 + yy**2)\n",
    "\n",
    "    mask = radius_grid>3.0\n",
    "    frac_list[ccd_index] = np.sum(np.sum(psf[mask])/np.sum(psf))\n",
    "    fwhm_list[ccd_index] = data['psf_fwhm'][0]"
   ]
  },
  {
   "cell_type": "code",
   "execution_count": null,
   "metadata": {},
   "outputs": [],
   "source": [
    "plt.hist(frac_list, 100)\n",
    "plt.show()\n",
    "\n",
    "plt.figure(figsize=(7, 6))\n",
    "plt.plot(ccd['fwhm']*pixscale, frac_list, '.', ms=3.)\n",
    "plt.xlabel('FWHM (arcsec)')\n",
    "plt.ylabel('Fraction of flux outside 3 arcsec radius')\n",
    "plt.grid(alpha=0.5)\n",
    "plt.show()\n",
    "\n",
    "plt.figure(figsize=(7, 6))\n",
    "plt.plot(fwhm_list*pixscale, frac_list, '.', ms=3.)\n",
    "plt.xlabel('FWHM (arcsec)')\n",
    "plt.ylabel('Fraction of flux outside 3 arcsec radius')\n",
    "plt.title('mosaic')\n",
    "plt.grid(alpha=0.5)\n",
    "plt.show()"
   ]
  },
  {
   "cell_type": "markdown",
   "metadata": {},
   "source": [
    "---------\n",
    "## Check asymmetry"
   ]
  },
  {
   "cell_type": "code",
   "execution_count": null,
   "metadata": {
    "scrolled": true
   },
   "outputs": [],
   "source": [
    "np.random.seed(681)\n",
    "# ccd_index_list = np.random.choice(len(ccd), size=1000, replace=False)\n",
    "ccd_index_list = np.arange(len(ccd))\n",
    "\n",
    "r_moment_list = np.zeros(len(ccd_index_list))\n",
    "\n",
    "for index, ccd_index in enumerate(ccd_index_list):\n",
    "    if index%1000==0:\n",
    "        print(index, len(ccd))\n",
    "    image_filename = ccd['image_filename'][ccd_index]\n",
    "    psfex_filename = image_filename.replace('.fits.fz', '-psfex.fits')\n",
    "    psfex_path = os.path.join(psfex_dir, psfex_filename)\n",
    "    data = Table(fitsio.read(psfex_path, ext=1))\n",
    "\n",
    "    psf = np.array(data['psf_mask'][0, 0])\n",
    "\n",
    "    grid = pixscale * np.linspace(-0.5*(psf.shape[0]-1), 0.5*(psf.shape[0]-1), psf.shape[0])\n",
    "    xx, yy = np.meshgrid(grid, grid)\n",
    "    radius_grid = np.sqrt(xx**2 + yy**2)\n",
    "    radius = radius_grid.flatten()\n",
    "    psf = psf/np.sum(psf)\n",
    "    \n",
    "    x_moment = np.sum(xx*psf)\n",
    "    y_moment = np.sum(yy*psf)\n",
    "    r_moment_list[index] = np.sqrt(x_moment**2 + y_moment**2)"
   ]
  },
  {
   "cell_type": "code",
   "execution_count": 6,
   "metadata": {},
   "outputs": [],
   "source": [
    "# np.save('psfex/decam_first_moment.npy', r_moment_list)\n",
    "r_moment_list = np.load('psfex/decam_first_moment.npy')"
   ]
  },
  {
   "cell_type": "code",
   "execution_count": 7,
   "metadata": {},
   "outputs": [
    {
     "data": {
      "image/png": "[encoded data removed]",
      "text/plain": [
       "<matplotlib.figure.Figure at 0x2aaadd29f908>"
      ]
     },
     "metadata": {},
     "output_type": "display_data"
    }
   ],
   "source": [
    "plt.hist(r_moment_list, 100)\n",
    "plt.show()"
   ]
  },
  {
   "cell_type": "code",
   "execution_count": null,
   "metadata": {},
   "outputs": [],
   "source": [
    "plt.figure(figsize=(7, 6))\n",
    "plt.plot(r_moment_list, frac_list, '.', ms=3.)\n",
    "plt.xlabel('First moment (arcsec)')\n",
    "plt.ylabel('Fraction of flux outside 3 arcsec radius')\n",
    "plt.title('DECam')\n",
    "plt.grid(alpha=0.5)\n",
    "plt.show()"
   ]
  },
  {
   "cell_type": "code",
   "execution_count": null,
   "metadata": {},
   "outputs": [],
   "source": [
    "plt.figure(figsize=(7, 6))\n",
    "plt.plot(fwhm_list*pixscale, r_moment_list, '.', ms=3.)\n",
    "plt.xlabel('FWHM (arcsec)')\n",
    "plt.ylabel('First moment  (arcsec)')\n",
    "plt.title('DECam')\n",
    "plt.grid(alpha=0.5)\n",
    "plt.show()"
   ]
  },
  {
   "cell_type": "code",
   "execution_count": null,
   "metadata": {
    "scrolled": true
   },
   "outputs": [],
   "source": [
    "from matplotlib.colors import LogNorm\n",
    "\n",
    "mask = (r_moment_list)<0.05\n",
    "print(np.sum(mask))\n",
    "ccd_index_list_plot = ccd_index_list[mask]\n",
    "np.random.seed(681)\n",
    "ccd_index_list_plot = np.random.choice(ccd_index_list_plot, size=10, replace=False)\n",
    "\n",
    "for ccd_index in ccd_index_list_plot:\n",
    "    image_filename = ccd['image_filename'][ccd_index]\n",
    "    psfex_filename = image_filename.replace('.fits.fz', '-psfex.fits')\n",
    "    psfex_path = os.path.join(psfex_dir, psfex_filename)\n",
    "    data = Table(fitsio.read(psfex_path, ext=1))\n",
    "    \n",
    "    fig, ax = plt.subplots(1, 2, figsize=(12, 4.5))\n",
    "    psf = np.array(data['psf_mask'][0, 0])\n",
    "    \n",
    "    grid = pixscale * np.linspace(-0.5*(psf.shape[0]-1), 0.5*(psf.shape[0]-1), psf.shape[0])\n",
    "    xx, yy = np.meshgrid(grid, grid)\n",
    "    radius_grid = np.sqrt(xx**2 + yy**2)\n",
    "    mask = radius_grid>3.0\n",
    "    frac = np.sum(np.sum(psf[mask])/np.sum(psf))\n",
    "\n",
    "    print('{} expnum={}  1st moment={:.4f}  frac={:.3f}'.format(ccd_index, ccd['expnum'][ccd_index], r_moment_list[ccd_index], frac))\n",
    "\n",
    "    extent = 0.5*pixscale*(psf.shape[1]*np.array([-1, 1, 0, 0])+psf.shape[0]*np.array([0, 0, -1, 1]))\n",
    "    im = ax[0].imshow(psf, vmin=1e-3*psf.max(), vmax=psf.max(), cmap='viridis', extent=extent, norm=LogNorm())\n",
    "    ax[0].grid(alpha=0.5)\n",
    "    ax[0].set_xlabel('arcsec')\n",
    "    ax[0].set_ylabel('arcsec')\n",
    "    fig.colorbar(im, ax=ax[0], shrink=0.75)\n",
    "    psf = np.array(data['psf_mask'][1, 0])\n",
    "    im = ax[1].imshow(psf, vmin=1e-3*psf.max(), vmax=psf.max(), cmap='viridis', extent=extent, norm=LogNorm())\n",
    "    ax[1].grid(alpha=0.5)\n",
    "    ax[1].set_xlabel('arcsec')\n",
    "    ax[1].set_ylabel('arcsec')\n",
    "    fig.colorbar(im, ax=ax[1], shrink=0.75)\n",
    "    fig.suptitle('{} expnum={}  1st moment={:.4f}  frac={:.3f}'.format(ccd_index, ccd['expnum'][ccd_index], r_moment_list[ccd_index], frac))\n",
    "    plt.show()"
   ]
  },
  {
   "cell_type": "code",
   "execution_count": null,
   "metadata": {
    "scrolled": true
   },
   "outputs": [],
   "source": [
    "from matplotlib.colors import LogNorm\n",
    "\n",
    "mask = (r_moment_list)>0.12\n",
    "ccd_index_list_plot = ccd_index_list[mask]\n",
    "ccd_index_list_plot = ccd_index_list_plot[np.argsort(-r_moment_list[ccd_index_list_plot])]\n",
    "\n",
    "print(np.sum(mask))\n",
    "for ccd_index in ccd_index_list_plot:\n",
    "    image_filename = ccd['image_filename'][ccd_index]\n",
    "    psfex_filename = image_filename.replace('.fits.fz', '-psfex.fits')\n",
    "    psfex_path = os.path.join(psfex_dir, psfex_filename)\n",
    "    data = Table(fitsio.read(psfex_path, ext=1))\n",
    "    \n",
    "    fig, ax = plt.subplots(1, 2, figsize=(12, 4.5))\n",
    "    psf = np.array(data['psf_mask'][0, 0])\n",
    "    \n",
    "    grid = pixscale * np.linspace(-0.5*(psf.shape[0]-1), 0.5*(psf.shape[0]-1), psf.shape[0])\n",
    "    xx, yy = np.meshgrid(grid, grid)\n",
    "    radius_grid = np.sqrt(xx**2 + yy**2)\n",
    "    mask = radius_grid>3.0\n",
    "    frac = np.sum(np.sum(psf[mask])/np.sum(psf))\n",
    "\n",
    "    print('{} expnum={} {} 1st moment={:.4f}  frac={:.3f}'.format(ccd_index, ccd['expnum'][ccd_index], ccd['filter'][ccd_index], r_moment_list[ccd_index], frac))\n",
    "\n",
    "    extent = 0.5*pixscale*(psf.shape[1]*np.array([-1, 1, 0, 0])+psf.shape[0]*np.array([0, 0, -1, 1]))\n",
    "    im = ax[0].imshow(psf, vmin=1e-3*psf.max(), vmax=psf.max(), cmap='viridis', extent=extent, norm=LogNorm())\n",
    "    ax[0].grid(alpha=0.5)\n",
    "    ax[0].set_xlabel('arcsec')\n",
    "    ax[0].set_ylabel('arcsec')\n",
    "    fig.colorbar(im, ax=ax[0], shrink=0.75)\n",
    "    psf = np.array(data['psf_mask'][1, 0])\n",
    "    im = ax[1].imshow(psf, vmin=1e-3*psf.max(), vmax=psf.max(), cmap='viridis', extent=extent, norm=LogNorm())\n",
    "    ax[1].grid(alpha=0.5)\n",
    "    ax[1].set_xlabel('arcsec')\n",
    "    ax[1].set_ylabel('arcsec')\n",
    "    fig.colorbar(im, ax=ax[1], shrink=0.75)\n",
    "    fig.suptitle('{} expnum={} {} 1st moment={:.4f}  frac={:.3f}'.format(ccd_index, ccd['expnum'][ccd_index], ccd['filter'][ccd_index], r_moment_list[ccd_index], frac))\n",
    "    plt.show()"
   ]
  },
  {
   "cell_type": "code",
   "execution_count": null,
   "metadata": {},
   "outputs": [],
   "source": []
  },
  {
   "cell_type": "code",
   "execution_count": null,
   "metadata": {},
   "outputs": [],
   "source": [
    "from matplotlib.colors import LogNorm\n",
    "\n",
    "ccd_index_list_plot = ccd_index_list[np.argsort(-r_moment_list[ccd_index_list])]\n",
    "ccd_index_list_plot = ccd_index_list_plot[:400]\n",
    "\n",
    "print(np.sum(mask))\n",
    "for index, ccd_index in enumerate(ccd_index_list_plot):\n",
    "    image_filename = ccd['image_filename'][ccd_index]\n",
    "    psfex_filename = image_filename.replace('.fits.fz', '-psfex.fits')\n",
    "    psfex_path = os.path.join(psfex_dir, psfex_filename)\n",
    "    data = Table(fitsio.read(psfex_path, ext=1))\n",
    "    \n",
    "    fig, ax = plt.subplots(1, 2, figsize=(12, 4.5))\n",
    "    psf = np.array(data['psf_mask'][0, 0])\n",
    "    \n",
    "    grid = pixscale * np.linspace(-0.5*(psf.shape[0]-1), 0.5*(psf.shape[0]-1), psf.shape[0])\n",
    "    xx, yy = np.meshgrid(grid, grid)\n",
    "    radius_grid = np.sqrt(xx**2 + yy**2)\n",
    "    mask = radius_grid>3.0\n",
    "    frac = np.sum(np.sum(psf[mask])/np.sum(psf))\n",
    "\n",
    "    print('{}  expnum={}  1st moment={:.4f}  frac={:.3f}'.format(index, ccd['expnum'][ccd_index], r_moment_list[ccd_index], frac))\n",
    "    \n",
    "    extent = 0.5*pixscale*(psf.shape[1]*np.array([-1, 1, 0, 0])+psf.shape[0]*np.array([0, 0, -1, 1]))\n",
    "    im = ax[0].imshow(psf, vmin=1e-3*psf.max(), vmax=psf.max(), cmap='viridis', extent=extent, norm=LogNorm())\n",
    "    ax[0].grid(alpha=0.5)\n",
    "    ax[0].set_xlabel('arcsec')\n",
    "    ax[0].set_ylabel('arcsec')\n",
    "    fig.colorbar(im, ax=ax[0], shrink=0.75)\n",
    "    psf = np.array(data['psf_mask'][1, 0])\n",
    "    im = ax[1].imshow(psf, vmin=1e-3*psf.max(), vmax=psf.max(), cmap='viridis', extent=extent, norm=LogNorm())\n",
    "    ax[1].grid(alpha=0.5)\n",
    "    ax[1].set_xlabel('arcsec')\n",
    "    ax[1].set_ylabel('arcsec')\n",
    "    fig.colorbar(im, ax=ax[1], shrink=0.75)\n",
    "    fig.suptitle('{} expnum={}  {}-band  1st_moment={:.4f}  frac={:.3f}'.format(ccd_index, ccd['expnum'][ccd_index], ccd['filter'][ccd_index], r_moment_list[ccd_index], frac))\n",
    "    plt.savefig('/global/cfs/cdirs/desi/users/rongpu/plots/dr9dev/weird_psf/decam_largest_1st_moment/{}.png'.format(ccd['expnum'][ccd_index]))"
   ]
  },
  {
   "cell_type": "code",
   "execution_count": 9,
   "metadata": {},
   "outputs": [],
   "source": [
    "ccd_index_list = np.arange(len(ccd))\n",
    "ccd_index_list_plot = ccd_index_list[np.argsort(-r_moment_list[ccd_index_list])]\n",
    "ccd_index_list_plot = ccd_index_list_plot[:400]\n",
    "\n",
    "f = open(\"/global/cfs/cdirs/desi/users/rongpu/plots/dr9dev/weird_psf/decam_largest_1st_moment.html\", \"w\")\n",
    "f.write('<html>\\n')\n",
    "f.write('<table>\\n')\n",
    "\n",
    "for ccd_index in ccd_index_list_plot:\n",
    "    plot_fn1 = 'decam_largest_1st_moment/{}.png'.format(ccd['expnum'][ccd_index])\n",
    "    f.write('<tr>\\n')\n",
    "    f.write('<td>Exposure {}\\n'.format(ccd['expnum'][ccd_index]))\n",
    "    f.write('<td><a href=\\'{}\\'><img src=\\'{}\\' width=\\'800\\'></a></td>\\n'.format(plot_fn1, plot_fn1))\n",
    "    f.write('</tr>\\n')\n",
    "        \n",
    "f.write('</table>\\n')\n",
    "f.close()"
   ]
  },
  {
   "cell_type": "code",
   "execution_count": null,
   "metadata": {},
   "outputs": [],
   "source": []
  }
 ],
 "metadata": {
  "kernelspec": {
   "display_name": "DESI 18.7",
   "language": "python",
   "name": "desi-18.7"
  },
  "language_info": {
   "codemirror_mode": {
    "name": "ipython",
    "version": 3
   },
   "file_extension": ".py",
   "mimetype": "text/x-python",
   "name": "python",
   "nbconvert_exporter": "python",
   "pygments_lexer": "ipython3",
   "version": "3.6.6"
  }
 },
 "nbformat": 4,
 "nbformat_minor": 2
}
