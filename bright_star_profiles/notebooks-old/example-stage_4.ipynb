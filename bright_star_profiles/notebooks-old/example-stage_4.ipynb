{
 "cells": [
  {
   "cell_type": "markdown",
   "metadata": {},
   "source": [
    "Bulk objects inspection"
   ]
  },
  {
   "cell_type": "code",
   "execution_count": 1,
   "metadata": {},
   "outputs": [],
   "source": [
    "from __future__ import division, print_function\n",
    "import matplotlib.pyplot as plt\n",
    "import numpy as np\n",
    "from astropy.table import Table, vstack, hstack\n",
    "import fitsio\n",
    "import sys, os, glob, time, warnings, gc"
   ]
  },
  {
   "cell_type": "code",
   "execution_count": 2,
   "metadata": {},
   "outputs": [],
   "source": [
    "params = {'legend.fontsize': 'large',\n",
    "         'axes.labelsize': 'large',\n",
    "         'axes.titlesize':'large',\n",
    "         'xtick.labelsize':'large',\n",
    "         'ytick.labelsize':'large',\n",
    "         'figure.facecolor':'w'} \n",
    "plt.rcParams.update(params)"
   ]
  },
  {
   "cell_type": "code",
   "execution_count": 1,
   "metadata": {},
   "outputs": [],
   "source": [
    "def plot_cutout(img, pixscale, vmin=-1, vmax=1, unit='arcsec'):\n",
    "    if unit=='arcsec':\n",
    "        extent = 0.5*pixscale*img.shape[0]*np.array([-1, 1, -1, 1])\n",
    "    elif unit=='arcmin':\n",
    "        extent = 0.5*pixscale*img.shape[0]*np.array([-1, 1, -1, 1])/60.\n",
    "    elif unit=='deg':\n",
    "        extent = 0.5*pixscale*img.shape[0]*np.array([-1, 1, -1, 1])/3600.\n",
    "    else:\n",
    "        raise ValueError('unrecognized unit')\n",
    "    fig, ax = plt.subplots(figsize=(8, 8))\n",
    "    dens = ax.imshow(img, aspect='equal', \n",
    "               cmap='seismic', extent=extent, vmin=vmin, vmax=vmax)\n",
    "    ax.axvline(0, ls='--', lw=0.5, color='grey')\n",
    "    ax.axhline(0, ls='--', lw=0.5, color='grey')\n",
    "    fig.colorbar(dens, fraction=0.046, pad=0.04)\n",
    "    # plt.grid(alpha=0.5, lw=0.5)\n",
    "    return ax\n",
    "\n",
    "def binned_stats(x, y, bins):\n",
    "    from scipy import stats\n",
    "    nmad = lambda x: 1.4826*np.median(np.abs(x-np.median(x)))\n",
    "    bin_median, bin_edges, binnumber = stats.binned_statistic(x, y, statistic='median', bins=bins)\n",
    "    bin_spread, _, _ = stats.binned_statistic(x, y, statistic=nmad, bins=bins)    \n",
    "    bin_center = (bin_edges[1:] + bin_edges[:-1])/2\n",
    "    return bin_center, bin_edges, bin_median, bin_spread"
   ]
  },
  {
   "cell_type": "code",
   "execution_count": 5,
   "metadata": {},
   "outputs": [],
   "source": [
    "gaia_fn = 'gaia1_10_17.fits.gz'\n",
    "gaia = Table.read('/Users/rongpu/Downloads/gaia_star_cutouts/'+gaia_fn)"
   ]
  },
  {
   "cell_type": "code",
   "execution_count": 6,
   "metadata": {},
   "outputs": [],
   "source": [
    "# Remove duplicates\n",
    "gaia.sort('SOURCE_ID')\n",
    "mask = gaia['SOURCE_ID'][1:]==gaia['SOURCE_ID'][:-1]\n",
    "mask = np.concatenate([[False], mask])\n",
    "gaia = gaia[~mask]"
   ]
  },
  {
   "cell_type": "code",
   "execution_count": 7,
   "metadata": {},
   "outputs": [
    {
     "name": "stdout",
     "output_type": "stream",
     "text": [
      "4955\n",
      "4955\n"
     ]
    }
   ],
   "source": [
    "print(len(gaia))\n",
    "print(len(np.unique(gaia['SOURCE_ID'])))"
   ]
  },
  {
   "cell_type": "code",
   "execution_count": 8,
   "metadata": {},
   "outputs": [
    {
     "data": {
      "text/html": [
       "<i>Table length=3</i>\n",
       "<table id=\"table140336734534064\" class=\"table-striped table-bordered table-condensed\">\n",
       "<thead><tr><th>SOURCE_ID</th><th>RA</th><th>RA_ERROR</th><th>DEC</th><th>DEC_ERROR</th><th>PARALLAX</th><th>PARALLAX_ERROR</th><th>PMRA</th><th>PMRA_ERROR</th><th>PMDEC</th><th>PMDEC_ERROR</th><th>ASTROMETRIC_EXCESS_NOISE</th><th>PHOT_G_MEAN_MAG</th><th>BP_RP</th><th>RADIAL_VELOCITY</th><th>RADIAL_VELOCITY_ERROR</th><th>PHOT_VARIABLE_FLAG</th><th>TEFF_VAL</th><th>A_G_VAL</th></tr></thead>\n",
       "<thead><tr><th>int64</th><th>float64</th><th>float64</th><th>float64</th><th>float64</th><th>float64</th><th>float64</th><th>float64</th><th>float64</th><th>float64</th><th>float64</th><th>float64</th><th>float32</th><th>float32</th><th>float64</th><th>float64</th><th>bytes13</th><th>float32</th><th>float32</th></tr></thead>\n",
       "<tr><td>72452632245539072</td><td>32.994211463771364</td><td>0.03630486797562427</td><td>11.030122911061108</td><td>0.025723471904464956</td><td>3.530114645035611</td><td>0.03680955299615472</td><td>46.8384882794626</td><td>0.0685664287669723</td><td>-50.51310640234493</td><td>0.05707370735257283</td><td>0.0</td><td>10.189775</td><td>1.2733269</td><td>-22.285404896059422</td><td>0.2956830145800138</td><td>NOT_AVAILABLE</td><td>4688.23</td><td>nan</td></tr>\n",
       "<tr><td>73218579533216256</td><td>32.363729317539004</td><td>0.032103933072222306</td><td>11.394445937108227</td><td>0.026336738217227245</td><td>1.6815989355122665</td><td>0.03591921415844464</td><td>0.988633141188997</td><td>0.06425581669395072</td><td>-6.513616260898633</td><td>0.054250431635452075</td><td>0.0</td><td>13.862895</td><td>1.1229277</td><td>nan</td><td>nan</td><td>NOT_AVAILABLE</td><td>4994.0</td><td>0.7545</td></tr>\n",
       "<tr><td>73271253012097280</td><td>32.131614339717856</td><td>0.032818924492033115</td><td>11.528817545893132</td><td>0.026076216830839098</td><td>0.8220777067248136</td><td>0.034087333210366264</td><td>14.218102294291352</td><td>0.0666826206643307</td><td>-6.31515803277314</td><td>0.05713864812798587</td><td>0.0</td><td>11.233503</td><td>1.4407673</td><td>27.867051573712914</td><td>0.264006630420258</td><td>NOT_AVAILABLE</td><td>4470.3867</td><td>0.4787</td></tr>\n",
       "</table>"
      ],
      "text/plain": [
       "<Table length=3>\n",
       "    SOURCE_ID             RA               RA_ERROR       ...  TEFF_VAL A_G_VAL\n",
       "      int64            float64             float64        ...  float32  float32\n",
       "----------------- ------------------ -------------------- ... --------- -------\n",
       "72452632245539072 32.994211463771364  0.03630486797562427 ...   4688.23     nan\n",
       "73218579533216256 32.363729317539004 0.032103933072222306 ...    4994.0  0.7545\n",
       "73271253012097280 32.131614339717856 0.032818924492033115 ... 4470.3867  0.4787"
      ]
     },
     "execution_count": 8,
     "metadata": {},
     "output_type": "execute_result"
    }
   ],
   "source": [
    "gaia[:3]"
   ]
  },
  {
   "cell_type": "code",
   "execution_count": 9,
   "metadata": {},
   "outputs": [
    {
     "data": {
      "image/png": "[encoded data removed]",
      "text/plain": [
       "<Figure size 432x288 with 1 Axes>"
      ]
     },
     "metadata": {},
     "output_type": "display_data"
    }
   ],
   "source": [
    "plt.hist(gaia['PHOT_G_MEAN_MAG'], 100);"
   ]
  },
  {
   "cell_type": "markdown",
   "metadata": {},
   "source": [
    "------\n",
    "## Narrow bin of GAIA-G magnitude"
   ]
  },
  {
   "cell_type": "code",
   "execution_count": 10,
   "metadata": {},
   "outputs": [
    {
     "name": "stdout",
     "output_type": "stream",
     "text": [
      "28\n"
     ]
    }
   ],
   "source": [
    "band = 'g'\n",
    "# img_type = '-resid'\n",
    "img_type = ''\n",
    "pixscale_str = '0.262'\n",
    "pixscale = float(pixscale_str)\n",
    "    \n",
    "idx = np.where((gaia['PHOT_G_MEAN_MAG']>12.0) & (gaia['PHOT_G_MEAN_MAG']<12.05))[0]\n",
    "print(len(idx))\n",
    "\n",
    "plot_dir = '/Users/rongpu/Downloads/gaia_star_cutouts/plots/3'\n",
    "if not os.path.exists(plot_dir):\n",
    "    os.makedirs(plot_dir)"
   ]
  },
  {
   "cell_type": "code",
   "execution_count": 13,
   "metadata": {
    "scrolled": false
   },
   "outputs": [
    {
     "name": "stdout",
     "output_type": "stream",
     "text": [
      "PHOT_G_MEAN_MAG =  12.018256\n",
      "PHOT_G_MEAN_MAG =  12.036963\n",
      "PHOT_G_MEAN_MAG =  12.01998\n",
      "PHOT_G_MEAN_MAG =  12.041059\n",
      "PHOT_G_MEAN_MAG =  12.006671\n",
      "PHOT_G_MEAN_MAG =  12.028868\n",
      "PHOT_G_MEAN_MAG =  12.006477\n",
      "PHOT_G_MEAN_MAG =  12.02462\n",
      "PHOT_G_MEAN_MAG =  12.048208\n",
      "PHOT_G_MEAN_MAG =  12.0285\n",
      "PHOT_G_MEAN_MAG =  12.018683\n",
      "PHOT_G_MEAN_MAG =  12.029953\n",
      "PHOT_G_MEAN_MAG =  12.034971\n",
      "PHOT_G_MEAN_MAG =  12.043221\n",
      "PHOT_G_MEAN_MAG =  12.00431\n",
      "PHOT_G_MEAN_MAG =  12.007899\n",
      "PHOT_G_MEAN_MAG =  12.027524\n",
      "PHOT_G_MEAN_MAG =  12.013307\n",
      "PHOT_G_MEAN_MAG =  12.03201\n",
      "PHOT_G_MEAN_MAG =  12.008841\n",
      "PHOT_G_MEAN_MAG =  12.0384035\n",
      "PHOT_G_MEAN_MAG =  12.004696\n",
      "PHOT_G_MEAN_MAG =  12.001924\n",
      "PHOT_G_MEAN_MAG =  12.007779\n",
      "PHOT_G_MEAN_MAG =  12.027409\n",
      "PHOT_G_MEAN_MAG =  12.017156\n",
      "PHOT_G_MEAN_MAG =  12.045553\n",
      "PHOT_G_MEAN_MAG =  12.0311165\n"
     ]
    }
   ],
   "source": [
    "for index in idx:\n",
    "\n",
    "    print('PHOT_G_MEAN_MAG = ', gaia['PHOT_G_MEAN_MAG'][index])\n",
    "\n",
    "    ra, dec = gaia['RA'][index], gaia['DEC'][index]\n",
    "\n",
    "    download_dir = '/Users/rongpu/Downloads/gaia_star_cutouts/'\n",
    "    file_path = os.path.join(download_dir, gaia_fn[:-8], 'gaia_{}_{}{}_{}.fits'.format(index, band, img_type, pixscale_str))\n",
    "\n",
    "    if not os.path.isfile(file_path):\n",
    "        url = 'http://legacysurvey.org/viewer/cutout.fits?ra={:f}&dec={:f}&layer=dr8{}&pixscale={}&bands={}'.format(ra, dec, img_type, pixscale_str, band)\n",
    "        cmd = 'wget -O '+file_path+' \\\"'+url+'\\\"'\n",
    "        print(cmd)\n",
    "        os.system(cmd)\n",
    "\n",
    "    img_raw = fitsio.read(file_path)\n",
    "    img = img_raw / (pixscale**2)\n",
    "\n",
    "    vrange = 0.5\n",
    "    ax = plot_cutout(img, pixscale, vmin=-vrange, vmax=vrange)\n",
    "    ax.set_title('['+band+'-band]  GAIA_G={:.4f}'.format(gaia['PHOT_G_MEAN_MAG'][index]))\n",
    "    plt.savefig(os.path.join(plot_dir, os.path.basename(file_path)[:-5]+'_image.png'))\n",
    "    plt.close()\n",
    "\n",
    "    grid = pixscale * np.linspace(-0.5*(img.shape[0]-1), 0.5*(img.shape[0]-1), img.shape[0])\n",
    "    xx, yy = np.meshgrid(grid, grid)\n",
    "    radius = np.sqrt(xx**2 + yy**2).flatten()\n",
    "\n",
    "    # Remove masked pixels\n",
    "    mask = img.flatten()!=0\n",
    "    radius = radius[mask]\n",
    "    flux = img.flatten()[mask]\n",
    "\n",
    "    bin_center, _, bin_median, bin_spread = binned_stats(radius, flux, bins=np.linspace(0., 31., 63))\n",
    "\n",
    "    plt.figure(figsize=(8, 6))\n",
    "    plt.plot(radius, flux, '.', ms=0.5)\n",
    "    plt.plot(bin_center, bin_median, c='C1')\n",
    "    plt.errorbar(bin_center, bin_median, yerr=bin_spread, lw=1, alpha=0.6, c='C1')\n",
    "    plt.axis([0, 20, -1, 5])\n",
    "    plt.axhline(0, lw=1, color='r')\n",
    "    plt.grid(alpha=0.5)\n",
    "    plt.title('['+band+'-band]  GAIA_G={:.4f}'.format(gaia['PHOT_G_MEAN_MAG'][index]))\n",
    "    plt.savefig(os.path.join(plot_dir, os.path.basename(file_path)[:-5]+'_profile.png'))\n",
    "    plt.close()\n",
    "\n",
    "    plt.figure(figsize=(8, 6))\n",
    "    plt.loglog(radius, flux, '.', ms=0.5)\n",
    "    plt.plot(bin_center, bin_median, c='C1')\n",
    "    plt.errorbar(bin_center, bin_median, yerr=bin_spread, lw=1, alpha=0.6, c='C1')\n",
    "    plt.axis([.5, 30, .02, 200])\n",
    "    plt.grid(alpha=0.5)\n",
    "    plt.title('['+band+'-band]  GAIA_G={:.4f}'.format(gaia['PHOT_G_MEAN_MAG'][index]))\n",
    "    plt.savefig(os.path.join(plot_dir, os.path.basename(file_path)[:-5]+'_profile_log.png'))\n",
    "    plt.close()"
   ]
  },
  {
   "cell_type": "markdown",
   "metadata": {},
   "source": [
    "------\n",
    "## Sort by magnitude"
   ]
  },
  {
   "cell_type": "code",
   "execution_count": 20,
   "metadata": {},
   "outputs": [
    {
     "name": "stdout",
     "output_type": "stream",
     "text": [
      "36\n"
     ]
    }
   ],
   "source": [
    "band = 'g'\n",
    "# img_type = '-resid'\n",
    "img_type = ''\n",
    "pixscale_str = '0.262'\n",
    "pixscale = float(pixscale_str)\n",
    "    \n",
    "gmag_list = np.linspace(10, 17, 36)\n",
    "idx = []\n",
    "np.random.seed(123)\n",
    "for gmag in gmag_list:\n",
    "    idx_tmp = np.where((gaia['PHOT_G_MEAN_MAG']>gmag-0.02) & (gaia['PHOT_G_MEAN_MAG']<gmag+0.02))[0]\n",
    "    idx.append(np.random.choice(idx_tmp))\n",
    "print(len(idx))\n",
    "\n",
    "plot_dir = '/Users/rongpu/Downloads/gaia_star_cutouts/plots/4'\n",
    "if not os.path.exists(plot_dir):\n",
    "    os.makedirs(plot_dir)"
   ]
  },
  {
   "cell_type": "code",
   "execution_count": 21,
   "metadata": {
    "scrolled": false
   },
   "outputs": [
    {
     "name": "stdout",
     "output_type": "stream",
     "text": [
      "PHOT_G_MEAN_MAG =  10.00229\n",
      "PHOT_G_MEAN_MAG =  10.196793\n",
      "PHOT_G_MEAN_MAG =  10.408125\n",
      "PHOT_G_MEAN_MAG =  10.609309\n",
      "PHOT_G_MEAN_MAG =  10.811524\n",
      "PHOT_G_MEAN_MAG =  11.008696\n",
      "PHOT_G_MEAN_MAG =  11.2028265\n",
      "PHOT_G_MEAN_MAG =  11.418474\n",
      "PHOT_G_MEAN_MAG =  11.593828\n",
      "PHOT_G_MEAN_MAG =  11.791109\n",
      "PHOT_G_MEAN_MAG =  11.983993\n",
      "PHOT_G_MEAN_MAG =  12.196291\n",
      "PHOT_G_MEAN_MAG =  12.4114685\n",
      "PHOT_G_MEAN_MAG =  12.586049\n",
      "PHOT_G_MEAN_MAG =  12.818193\n",
      "PHOT_G_MEAN_MAG =  13.009109\n",
      "PHOT_G_MEAN_MAG =  13.2074375\n",
      "PHOT_G_MEAN_MAG =  13.380411\n",
      "PHOT_G_MEAN_MAG =  13.617974\n",
      "PHOT_G_MEAN_MAG =  13.796309\n",
      "PHOT_G_MEAN_MAG =  14.015033\n",
      "PHOT_G_MEAN_MAG =  14.215515\n",
      "PHOT_G_MEAN_MAG =  14.389927\n",
      "PHOT_G_MEAN_MAG =  14.617884\n",
      "PHOT_G_MEAN_MAG =  14.79436\n",
      "PHOT_G_MEAN_MAG =  14.980919\n",
      "PHOT_G_MEAN_MAG =  15.215668\n",
      "PHOT_G_MEAN_MAG =  15.404159\n",
      "PHOT_G_MEAN_MAG =  15.604718\n",
      "PHOT_G_MEAN_MAG =  15.786871\n",
      "PHOT_G_MEAN_MAG =  16.010681\n",
      "PHOT_G_MEAN_MAG =  16.210672\n",
      "PHOT_G_MEAN_MAG =  16.390873\n",
      "PHOT_G_MEAN_MAG =  16.617025\n",
      "PHOT_G_MEAN_MAG =  16.803194\n",
      "PHOT_G_MEAN_MAG =  16.99253\n"
     ]
    }
   ],
   "source": [
    "counter = 0\n",
    "for index in idx:\n",
    "\n",
    "    print('PHOT_G_MEAN_MAG = ', gaia['PHOT_G_MEAN_MAG'][index])\n",
    "\n",
    "    ra, dec = gaia['RA'][index], gaia['DEC'][index]\n",
    "\n",
    "    download_dir = '/Users/rongpu/Downloads/gaia_star_cutouts/'\n",
    "    file_path = os.path.join(download_dir, gaia_fn[:-8], 'gaia_{}_{}{}_{}.fits'.format(index, band, img_type, pixscale_str))\n",
    "\n",
    "    if not os.path.isfile(file_path):\n",
    "        url = 'http://legacysurvey.org/viewer/cutout.fits?ra={:f}&dec={:f}&layer=dr8{}&pixscale={}&bands={}'.format(ra, dec, img_type, pixscale_str, band)\n",
    "        cmd = 'wget -O '+file_path+' \\\"'+url+'\\\"'\n",
    "        print(cmd)\n",
    "        os.system(cmd)\n",
    "\n",
    "    img_raw = fitsio.read(file_path)\n",
    "    img = img_raw / (pixscale**2)\n",
    "\n",
    "    vrange = 0.5\n",
    "    ax = plot_cutout(img, pixscale, vmin=-vrange, vmax=vrange)\n",
    "    ax.set_title('['+band+'-band]  GAIA_G={:.4f}'.format(gaia['PHOT_G_MEAN_MAG'][index]))\n",
    "    plt.savefig(os.path.join(plot_dir, str(counter)+'_'+os.path.basename(file_path)[:-5]+'_image.png'))\n",
    "    plt.close()\n",
    "\n",
    "    grid = pixscale * np.linspace(-0.5*(img.shape[0]-1), 0.5*(img.shape[0]-1), img.shape[0])\n",
    "    xx, yy = np.meshgrid(grid, grid)\n",
    "    radius = np.sqrt(xx**2 + yy**2).flatten()\n",
    "\n",
    "    # Remove masked pixels\n",
    "    mask = img.flatten()!=0\n",
    "    radius = radius[mask]\n",
    "    flux = img.flatten()[mask]\n",
    "\n",
    "    bin_center, _, bin_median, bin_spread = binned_stats(radius, flux, bins=np.linspace(0., 31., 63))\n",
    "\n",
    "    plt.figure(figsize=(8, 6))\n",
    "    plt.plot(radius, flux, '.', ms=0.5)\n",
    "    plt.plot(bin_center, bin_median, c='C1')\n",
    "    plt.errorbar(bin_center, bin_median, yerr=bin_spread, lw=1, alpha=0.6, c='C1')\n",
    "    plt.axis([0, 20, -1, 5])\n",
    "    plt.axhline(0, lw=1, color='r')\n",
    "    plt.grid(alpha=0.5)\n",
    "    plt.title('['+band+'-band]  GAIA_G={:.4f}'.format(gaia['PHOT_G_MEAN_MAG'][index]))\n",
    "    plt.savefig(os.path.join(plot_dir, str(counter)+'_'+os.path.basename(file_path)[:-5]+'_profile.png'))\n",
    "    plt.close()\n",
    "\n",
    "    plt.figure(figsize=(8, 6))\n",
    "    plt.loglog(radius, flux, '.', ms=0.5)\n",
    "    plt.plot(bin_center, bin_median, c='C1')\n",
    "    plt.errorbar(bin_center, bin_median, yerr=bin_spread, lw=1, alpha=0.6, c='C1')\n",
    "    plt.axis([.5, 30, .02, 200])\n",
    "    plt.grid(alpha=0.5)\n",
    "    plt.title('['+band+'-band]  GAIA_G={:.4f}'.format(gaia['PHOT_G_MEAN_MAG'][index]))\n",
    "    plt.savefig(os.path.join(plot_dir, str(counter)+'_'+os.path.basename(file_path)[:-5]+'_profile_log.png'))\n",
    "    plt.close()\n",
    "    \n",
    "    counter += 1"
   ]
  },
  {
   "cell_type": "code",
   "execution_count": null,
   "metadata": {},
   "outputs": [],
   "source": []
  }
 ],
 "metadata": {
  "kernelspec": {
   "display_name": "Python 3",
   "language": "python",
   "name": "python3"
  },
  "language_info": {
   "codemirror_mode": {
    "name": "ipython",
    "version": 3
   },
   "file_extension": ".py",
   "mimetype": "text/x-python",
   "name": "python",
   "nbconvert_exporter": "python",
   "pygments_lexer": "ipython3",
   "version": "3.7.3"
  }
 },
 "nbformat": 4,
 "nbformat_minor": 2
}
