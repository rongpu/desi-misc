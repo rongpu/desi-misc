{
 "cells": [
  {
   "cell_type": "markdown",
   "metadata": {},
   "source": [
    "Run on NERSC"
   ]
  },
  {
   "cell_type": "code",
   "execution_count": 1,
   "metadata": {},
   "outputs": [],
   "source": [
    "from __future__ import division, print_function\n",
    "import sys, os, glob, time, warnings, gc\n",
    "import matplotlib.pyplot as plt\n",
    "import numpy as np\n",
    "from astropy.table import Table, vstack, hstack\n",
    "import fitsio\n",
    "from astropy.io import fits"
   ]
  },
  {
   "cell_type": "code",
   "execution_count": 2,
   "metadata": {},
   "outputs": [],
   "source": [
    "params = {'legend.fontsize': 'large',\n",
    "         'axes.labelsize': 'large',\n",
    "         'axes.titlesize':'large',\n",
    "         'xtick.labelsize':'large',\n",
    "         'ytick.labelsize':'large',\n",
    "         'figure.facecolor':'w'} \n",
    "plt.rcParams.update(params)"
   ]
  },
  {
   "cell_type": "code",
   "execution_count": 3,
   "metadata": {},
   "outputs": [],
   "source": [
    "def plot_cutout(img, pixscale, vmin=-1, vmax=1, unit='arcsec'):\n",
    "    if unit=='arcsec':\n",
    "        extent = 0.5*pixscale*img.shape[0]*np.array([-1, 1, -1, 1])\n",
    "    elif unit=='arcmin':\n",
    "        extent = 0.5*pixscale*img.shape[0]*np.array([-1, 1, -1, 1])/60.\n",
    "    elif unit=='deg':\n",
    "        extent = 0.5*pixscale*img.shape[0]*np.array([-1, 1, -1, 1])/3600.\n",
    "    else:\n",
    "        raise ValueError('unrecognized unit')\n",
    "    fig, ax = plt.subplots(figsize=(8, 8))\n",
    "    dens = ax.imshow(img, aspect='equal', \n",
    "               cmap='seismic', extent=extent, vmin=vmin, vmax=vmax)\n",
    "    ax.axvline(0, ls='--', lw=0.5, color='grey')\n",
    "    ax.axhline(0, ls='--', lw=0.5, color='grey')\n",
    "    fig.colorbar(dens, fraction=0.046, pad=0.04)\n",
    "    ax.grid(alpha=0.5)\n",
    "    return ax"
   ]
  },
  {
   "cell_type": "code",
   "execution_count": 4,
   "metadata": {},
   "outputs": [
    {
     "name": "stdout",
     "output_type": "stream",
     "text": [
      "3560028\n",
      "2191\n",
      "0.0371909996214\n",
      "132401\n"
     ]
    }
   ],
   "source": [
    "ccd = fitsio.read('/global/project/projectdirs/cosmo/work/legacysurvey/dr9/reorg/survey-ccds-decam-dr9-newlocs2.fits.gz')\n",
    "ccd = Table(ccd)\n",
    "print(len(ccd))\n",
    "\n",
    "# Load Schlegel's CCD file list\n",
    "fn = '/global/project/projectdirs/cosmo/work/users/djschleg/dr9lists/dr9c.txt'\n",
    "with open(fn, 'r') as f:\n",
    "    lines = list(map(str.rstrip, f.readlines()))\n",
    "print(len(lines))\n",
    "# print(lines[0])\n",
    "\n",
    "ccd['basename'] = list(map(os.path.basename, ccd['image_filename']))\n",
    "mask = np.in1d(ccd['basename'], np.array(lines))\n",
    "print(np.sum(mask)/len(mask))\n",
    "ccd = ccd[mask]\n",
    "print(len(ccd))"
   ]
  },
  {
   "cell_type": "code",
   "execution_count": 5,
   "metadata": {},
   "outputs": [
    {
     "name": "stdout",
     "output_type": "stream",
     "text": [
      "44512\n",
      "median = 1.78%\n"
     ]
    },
    {
     "data": {
      "image/png": "[encoded data removed]",
      "text/plain": [
       "<matplotlib.figure.Figure at 0x2aab3ca2deb8>"
      ]
     },
     "metadata": {},
     "output_type": "display_data"
    }
   ],
   "source": [
    "band = 'g'\n",
    "\n",
    "ccd_mask = ccd['filter']==band\n",
    "print(np.sum(ccd_mask))\n",
    "\n",
    "idx = np.where(ccd_mask)[0]\n",
    "nsamp = 1000\n",
    "# nsamp = 10\n",
    "if len(idx)>nsamp:\n",
    "    np.random.seed(1)\n",
    "    idx = np.random.choice(idx, size=nsamp, replace=False)\n",
    "    \n",
    "idx = idx[np.argsort(ccd['expnum'][idx])]\n",
    "\n",
    "norm_list = np.zeros(nsamp)\n",
    "\n",
    "for index, ccd_index in enumerate(idx):\n",
    "\n",
    "    expnum = ccd['expnum'][ccd_index]\n",
    "    ccdname = ccd['ccdname'][ccd_index]\n",
    "    \n",
    "    expnum_str = str(expnum)\n",
    "\n",
    "    fn = '/global/project/projectdirs/cosmo/work/legacysurvey/dr9/calib/decam/psfex-merged/{}/decam-{}.fits'.format((5-len(expnum_str[:3]))*'0'+expnum_str[:3], (8-len(expnum_str))*'0'+expnum_str)\n",
    "    \n",
    "    hdu = fits.open(fn)\n",
    "    data = hdu[1].data\n",
    "    # print(data['psf_mask'].shape)\n",
    "\n",
    "    which_ccd = np.where(data['ccdname']==ccdname)[0][0]\n",
    "    psf = data['psf_mask'][which_ccd]\n",
    "    # print(psf.shape)\n",
    "\n",
    "    psf0 = psf[0]\n",
    "    # normalize to a 22.5 magnitude star\n",
    "    # print(np.sum(psf0))\n",
    "    norm_list[index] = np.sum(psf0)-1\n",
    "\n",
    "print('median = {:.2f}%'.format(100*np.median(norm_list)))\n",
    "plt.hist(norm_list*100, 50, range=(-1, 4))\n",
    "plt.xlabel('% deviation from unity')\n",
    "plt.grid(alpha=0.5)\n",
    "plt.show()"
   ]
  },
  {
   "cell_type": "code",
   "execution_count": 6,
   "metadata": {},
   "outputs": [
    {
     "name": "stdout",
     "output_type": "stream",
     "text": [
      "43276\n",
      "median = 1.60%\n"
     ]
    },
    {
     "data": {
      "image/png": "[encoded data removed]",
      "text/plain": [
       "<matplotlib.figure.Figure at 0x2aaad704d3c8>"
      ]
     },
     "metadata": {},
     "output_type": "display_data"
    }
   ],
   "source": [
    "band = 'r'\n",
    "\n",
    "ccd_mask = ccd['filter']==band\n",
    "print(np.sum(ccd_mask))\n",
    "\n",
    "idx = np.where(ccd_mask)[0]\n",
    "nsamp = 1000\n",
    "# nsamp = 10\n",
    "if len(idx)>nsamp:\n",
    "    np.random.seed(1)\n",
    "    idx = np.random.choice(idx, size=nsamp, replace=False)\n",
    "    \n",
    "idx = idx[np.argsort(ccd['expnum'][idx])]\n",
    "\n",
    "norm_list = np.zeros(nsamp)\n",
    "\n",
    "for index, ccd_index in enumerate(idx):\n",
    "\n",
    "    expnum = ccd['expnum'][ccd_index]\n",
    "    ccdname = ccd['ccdname'][ccd_index]\n",
    "    \n",
    "    expnum_str = str(expnum)\n",
    "\n",
    "    fn = '/global/project/projectdirs/cosmo/work/legacysurvey/dr9/calib/decam/psfex-merged/{}/decam-{}.fits'.format((5-len(expnum_str[:3]))*'0'+expnum_str[:3], (8-len(expnum_str))*'0'+expnum_str)\n",
    "    \n",
    "    hdu = fits.open(fn)\n",
    "    data = hdu[1].data\n",
    "    # print(data['psf_mask'].shape)\n",
    "\n",
    "    which_ccd = np.where(data['ccdname']==ccdname)[0][0]\n",
    "    psf = data['psf_mask'][which_ccd]\n",
    "    # print(psf.shape)\n",
    "\n",
    "    psf0 = psf[0]\n",
    "    # normalize to a 22.5 magnitude star\n",
    "    # print(np.sum(psf0))\n",
    "    norm_list[index] = np.sum(psf0)-1\n",
    "\n",
    "print('median = {:.2f}%'.format(100*np.median(norm_list)))\n",
    "plt.hist(norm_list*100, 50, range=(-1, 4))\n",
    "plt.xlabel('% deviation from unity')\n",
    "plt.grid(alpha=0.5)\n",
    "plt.show()"
   ]
  },
  {
   "cell_type": "code",
   "execution_count": 7,
   "metadata": {},
   "outputs": [
    {
     "name": "stdout",
     "output_type": "stream",
     "text": [
      "44613\n",
      "median = 2.21%\n"
     ]
    },
    {
     "data": {
      "image/png": "[encoded data removed]",
      "text/plain": [
       "<matplotlib.figure.Figure at 0x2aaab45c4438>"
      ]
     },
     "metadata": {},
     "output_type": "display_data"
    }
   ],
   "source": [
    "band = 'z'\n",
    "\n",
    "ccd_mask = ccd['filter']==band\n",
    "print(np.sum(ccd_mask))\n",
    "\n",
    "idx = np.where(ccd_mask)[0]\n",
    "nsamp = 1000\n",
    "# nsamp = 10\n",
    "if len(idx)>nsamp:\n",
    "    np.random.seed(1)\n",
    "    idx = np.random.choice(idx, size=nsamp, replace=False)\n",
    "    \n",
    "idx = idx[np.argsort(ccd['expnum'][idx])]\n",
    "\n",
    "norm_list = np.zeros(nsamp)\n",
    "\n",
    "for index, ccd_index in enumerate(idx):\n",
    "\n",
    "    expnum = ccd['expnum'][ccd_index]\n",
    "    ccdname = ccd['ccdname'][ccd_index]\n",
    "    \n",
    "    expnum_str = str(expnum)\n",
    "\n",
    "    fn = '/global/project/projectdirs/cosmo/work/legacysurvey/dr9/calib/decam/psfex-merged/{}/decam-{}.fits'.format((5-len(expnum_str[:3]))*'0'+expnum_str[:3], (8-len(expnum_str))*'0'+expnum_str)\n",
    "    \n",
    "    hdu = fits.open(fn)\n",
    "    data = hdu[1].data\n",
    "    # print(data['psf_mask'].shape)\n",
    "\n",
    "    which_ccd = np.where(data['ccdname']==ccdname)[0][0]\n",
    "    psf = data['psf_mask'][which_ccd]\n",
    "    # print(psf.shape)\n",
    "\n",
    "    psf0 = psf[0]\n",
    "    # normalize to a 22.5 magnitude star\n",
    "    # print(np.sum(psf0))\n",
    "    norm_list[index] = np.sum(psf0)-1\n",
    "\n",
    "print('median = {:.2f}%'.format(100*np.median(norm_list)))\n",
    "plt.hist(norm_list*100, 50, range=(-1, 4))\n",
    "plt.xlabel('% deviation from unity')\n",
    "plt.grid(alpha=0.5)\n",
    "plt.show()"
   ]
  },
  {
   "cell_type": "code",
   "execution_count": null,
   "metadata": {},
   "outputs": [],
   "source": []
  }
 ],
 "metadata": {
  "kernelspec": {
   "display_name": "DESI 18.7",
   "language": "python",
   "name": "desi-18.7"
  },
  "language_info": {
   "codemirror_mode": {
    "name": "ipython",
    "version": 3
   },
   "file_extension": ".py",
   "mimetype": "text/x-python",
   "name": "python",
   "nbconvert_exporter": "python",
   "pygments_lexer": "ipython3",
   "version": "3.6.6"
  }
 },
 "nbformat": 4,
 "nbformat_minor": 2
}
