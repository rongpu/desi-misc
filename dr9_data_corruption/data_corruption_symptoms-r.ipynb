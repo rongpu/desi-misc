{
 "cells": [
  {
   "cell_type": "code",
   "execution_count": 1,
   "metadata": {},
   "outputs": [],
   "source": [
    "from __future__ import division, print_function\n",
    "import sys, os, glob, time, warnings, gc\n",
    "import numpy as np\n",
    "import matplotlib.pyplot as plt\n",
    "from astropy.table import Table, vstack, hstack\n",
    "import fitsio\n",
    "# from astropy.io import fits"
   ]
  },
  {
   "cell_type": "code",
   "execution_count": 2,
   "metadata": {},
   "outputs": [],
   "source": [
    "params = {'legend.fontsize': 'large',\n",
    "         'axes.labelsize': 'large',\n",
    "         'axes.titlesize':'large',\n",
    "         'xtick.labelsize':'large',\n",
    "         'ytick.labelsize':'large',\n",
    "         'figure.facecolor':'w'} \n",
    "plt.rcParams.update(params)"
   ]
  },
  {
   "cell_type": "code",
   "execution_count": 3,
   "metadata": {},
   "outputs": [],
   "source": [
    "def create_image(data, cmap='gray', dpi=80, vmin=None, vmax=None, origin=None, norm=None):\n",
    "    '''\n",
    "    Create an image with exactly the same pixel dimension as the data.\n",
    "    Example:\n",
    "        x, y = np.arange(0, 10), np.arange(0, 10)\n",
    "        xx, yy = np.meshgrid(x, y)\n",
    "        img = np.array((xx + yy)%2==0, dtype=int)\n",
    "        ax = create_image(img)\n",
    "        plt.savefig('img.png')\n",
    "        plt.close()\n",
    "    '''\n",
    "    xpixels, ypixels = data.shape[0], data.shape[1]\n",
    "    figsize = ypixels / dpi, xpixels / dpi\n",
    "    fig = plt.figure(figsize=figsize, dpi=dpi)\n",
    "    ax = fig.add_axes([0, 0, 1, 1])\n",
    "    ax.imshow(data, cmap=cmap, interpolation='none', vmin=vmin, vmax=vmax, origin=origin, norm=norm)\n",
    "    plt.axis('off')\n",
    "    return ax"
   ]
  },
  {
   "cell_type": "code",
   "execution_count": 4,
   "metadata": {},
   "outputs": [],
   "source": [
    "bits_to_mask = [0, 2, 3, 4, 5, 6, 7]"
   ]
  },
  {
   "cell_type": "code",
   "execution_count": 10,
   "metadata": {},
   "outputs": [
    {
     "name": "stdout",
     "output_type": "stream",
     "text": [
      "[12955448, 127560, 20167, 0]\n"
     ]
    }
   ],
   "source": [
    "brickname = '1286p200'\n",
    "band = 'r'\n",
    "\n",
    "img = fitsio.read('/global/cfs/cdirs/cosmo/work/legacysurvey/dr9m/south/coadd/{}/{}/legacysurvey-{}-image-{}.fits.fz'.format(brickname[:3], brickname, brickname, band))\n",
    "ivar = fitsio.read('/global/cfs/cdirs/cosmo/work/legacysurvey/dr9m/south/coadd/{}/{}/legacysurvey-{}-invvar-{}.fits.fz'.format(brickname[:3], brickname, brickname, band))\n",
    "nexp = fitsio.read('/global/cfs/cdirs/cosmo/work/legacysurvey/dr9m/south/coadd/{}/{}/legacysurvey-{}-nexp-{}.fits.fz'.format(brickname[:3], brickname, brickname, band))\n",
    "maskbits = fitsio.read('/global/cfs/cdirs/cosmo/work/legacysurvey/dr9m/south/coadd/{}/{}/legacysurvey-{}-maskbits.fits.fz'.format(brickname[:3], brickname, brickname))\n",
    "\n",
    "npix_obs = np.sum(nexp>0)\n",
    "\n",
    "mask_clean = np.ones(img.shape, dtype=bool)\n",
    "for bit in bits_to_mask:\n",
    "    mask_clean &= (maskbits & 2**bit)==0\n",
    "\n",
    "# Case 1\n",
    "mask = (img==0) & (nexp>0) & (ivar>0)\n",
    "mask &= mask_clean\n",
    "npix_case1 = np.sum(mask)\n",
    "\n",
    "# Case 2\n",
    "mask = (np.abs(img)<1e-4) & (nexp>0) & (ivar>0)\n",
    "mask &= mask_clean\n",
    "\n",
    "# downsize to remove isolated pixels\n",
    "binsize = 3\n",
    "trim_size_x = mask.shape[1] % binsize\n",
    "trim_size_y = mask.shape[0] % binsize\n",
    "mask = mask[:(mask.shape[0]-trim_size_y), :(mask.shape[1]-trim_size_x)]\n",
    "# to ignore NAN values, use np.nanmean\n",
    "mask = np.median(np.median(mask.reshape((mask.shape[0]//binsize, binsize, mask.shape[1]//binsize,-1)), axis=3), axis=1)\n",
    "mask = mask>0\n",
    "\n",
    "npix_case2 = np.sum(mask)\n",
    "\n",
    "# Case 3\n",
    "mask = (nexp==0) & (ivar==0) & (img!=0)\n",
    "mask &= mask_clean\n",
    "npix_case3 = np.sum(mask)\n",
    "\n",
    "print([npix_obs, npix_case1, npix_case2, npix_case3])"
   ]
  },
  {
   "cell_type": "code",
   "execution_count": 11,
   "metadata": {},
   "outputs": [
    {
     "name": "stdout",
     "output_type": "stream",
     "text": [
      "[12729326, 0, 164247, 0]\n"
     ]
    }
   ],
   "source": [
    "brickname = '3196p182'\n",
    "band = 'r'\n",
    "\n",
    "img = fitsio.read('/global/cfs/cdirs/cosmo/work/legacysurvey/dr9m/south/coadd/{}/{}/legacysurvey-{}-image-{}.fits.fz'.format(brickname[:3], brickname, brickname, band))\n",
    "ivar = fitsio.read('/global/cfs/cdirs/cosmo/work/legacysurvey/dr9m/south/coadd/{}/{}/legacysurvey-{}-invvar-{}.fits.fz'.format(brickname[:3], brickname, brickname, band))\n",
    "nexp = fitsio.read('/global/cfs/cdirs/cosmo/work/legacysurvey/dr9m/south/coadd/{}/{}/legacysurvey-{}-nexp-{}.fits.fz'.format(brickname[:3], brickname, brickname, band))\n",
    "maskbits = fitsio.read('/global/cfs/cdirs/cosmo/work/legacysurvey/dr9m/south/coadd/{}/{}/legacysurvey-{}-maskbits.fits.fz'.format(brickname[:3], brickname, brickname))\n",
    "\n",
    "npix_obs = np.sum(nexp>0)\n",
    "\n",
    "mask_clean = np.ones(img.shape, dtype=bool)\n",
    "for bit in bits_to_mask:\n",
    "    mask_clean &= (maskbits & 2**bit)==0\n",
    "\n",
    "# Case 1\n",
    "mask = (img==0) & (nexp>0) & (ivar>0)\n",
    "mask &= mask_clean\n",
    "npix_case1 = np.sum(mask)\n",
    "\n",
    "# Case 2\n",
    "mask = (np.abs(img)<1e-4) & (nexp>0) & (ivar>0)\n",
    "mask &= mask_clean\n",
    "\n",
    "# downsize to remove isolated pixels\n",
    "binsize = 3\n",
    "trim_size_x = mask.shape[1] % binsize\n",
    "trim_size_y = mask.shape[0] % binsize\n",
    "mask = mask[:(mask.shape[0]-trim_size_y), :(mask.shape[1]-trim_size_x)]\n",
    "# to ignore NAN values, use np.nanmean\n",
    "mask = np.median(np.median(mask.reshape((mask.shape[0]//binsize, binsize, mask.shape[1]//binsize,-1)), axis=3), axis=1)\n",
    "mask = mask>0\n",
    "\n",
    "npix_case2 = np.sum(mask)\n",
    "\n",
    "# Case 3\n",
    "mask = (nexp==0) & (ivar==0) & (img!=0)\n",
    "mask &= mask_clean\n",
    "npix_case3 = np.sum(mask)\n",
    "\n",
    "print([npix_obs, npix_case1, npix_case2, npix_case3])"
   ]
  },
  {
   "cell_type": "code",
   "execution_count": 12,
   "metadata": {},
   "outputs": [
    {
     "name": "stdout",
     "output_type": "stream",
     "text": [
      "[12733131, 0, 3, 215418]\n"
     ]
    }
   ],
   "source": [
    "brickname = '3580p330'\n",
    "band = 'r'\n",
    "\n",
    "img = fitsio.read('/global/cfs/cdirs/cosmo/work/legacysurvey/dr9m/south/coadd/{}/{}/legacysurvey-{}-image-{}.fits.fz'.format(brickname[:3], brickname, brickname, band))\n",
    "ivar = fitsio.read('/global/cfs/cdirs/cosmo/work/legacysurvey/dr9m/south/coadd/{}/{}/legacysurvey-{}-invvar-{}.fits.fz'.format(brickname[:3], brickname, brickname, band))\n",
    "nexp = fitsio.read('/global/cfs/cdirs/cosmo/work/legacysurvey/dr9m/south/coadd/{}/{}/legacysurvey-{}-nexp-{}.fits.fz'.format(brickname[:3], brickname, brickname, band))\n",
    "maskbits = fitsio.read('/global/cfs/cdirs/cosmo/work/legacysurvey/dr9m/south/coadd/{}/{}/legacysurvey-{}-maskbits.fits.fz'.format(brickname[:3], brickname, brickname))\n",
    "\n",
    "npix_obs = np.sum(nexp>0)\n",
    "\n",
    "mask_clean = np.ones(img.shape, dtype=bool)\n",
    "for bit in bits_to_mask:\n",
    "    mask_clean &= (maskbits & 2**bit)==0\n",
    "\n",
    "# Case 1\n",
    "mask = (img==0) & (nexp>0) & (ivar>0)\n",
    "mask &= mask_clean\n",
    "npix_case1 = np.sum(mask)\n",
    "\n",
    "# Case 2\n",
    "mask = (np.abs(img)<1e-4) & (nexp>0) & (ivar>0)\n",
    "mask &= mask_clean\n",
    "\n",
    "# downsize to remove isolated pixels\n",
    "binsize = 3\n",
    "trim_size_x = mask.shape[1] % binsize\n",
    "trim_size_y = mask.shape[0] % binsize\n",
    "mask = mask[:(mask.shape[0]-trim_size_y), :(mask.shape[1]-trim_size_x)]\n",
    "# to ignore NAN values, use np.nanmean\n",
    "mask = np.median(np.median(mask.reshape((mask.shape[0]//binsize, binsize, mask.shape[1]//binsize,-1)), axis=3), axis=1)\n",
    "mask = mask>0\n",
    "\n",
    "npix_case2 = np.sum(mask)\n",
    "\n",
    "# Case 3\n",
    "mask = (nexp==0) & (ivar==0) & (img!=0)\n",
    "mask &= mask_clean\n",
    "npix_case3 = np.sum(mask)\n",
    "\n",
    "print([npix_obs, npix_case1, npix_case2, npix_case3])"
   ]
  },
  {
   "cell_type": "code",
   "execution_count": 13,
   "metadata": {},
   "outputs": [
    {
     "name": "stdout",
     "output_type": "stream",
     "text": [
      "[8880532, 0, 1, 2]\n"
     ]
    }
   ],
   "source": [
    "# Normal brick\n",
    "brickname = '1129p170'\n",
    "band = 'r'\n",
    "\n",
    "img = fitsio.read('/global/cfs/cdirs/cosmo/work/legacysurvey/dr9m/south/coadd/{}/{}/legacysurvey-{}-image-{}.fits.fz'.format(brickname[:3], brickname, brickname, band))\n",
    "ivar = fitsio.read('/global/cfs/cdirs/cosmo/work/legacysurvey/dr9m/south/coadd/{}/{}/legacysurvey-{}-invvar-{}.fits.fz'.format(brickname[:3], brickname, brickname, band))\n",
    "nexp = fitsio.read('/global/cfs/cdirs/cosmo/work/legacysurvey/dr9m/south/coadd/{}/{}/legacysurvey-{}-nexp-{}.fits.fz'.format(brickname[:3], brickname, brickname, band))\n",
    "maskbits = fitsio.read('/global/cfs/cdirs/cosmo/work/legacysurvey/dr9m/south/coadd/{}/{}/legacysurvey-{}-maskbits.fits.fz'.format(brickname[:3], brickname, brickname))\n",
    "\n",
    "npix_obs = np.sum(nexp>0)\n",
    "\n",
    "mask_clean = np.ones(img.shape, dtype=bool)\n",
    "for bit in bits_to_mask:\n",
    "    mask_clean &= (maskbits & 2**bit)==0\n",
    "\n",
    "# Case 1\n",
    "mask = (img==0) & (nexp>0) & (ivar>0)\n",
    "mask &= mask_clean\n",
    "npix_case1 = np.sum(mask)\n",
    "\n",
    "# Case 2\n",
    "mask = (np.abs(img)<1e-4) & (nexp>0) & (ivar>0)\n",
    "mask &= mask_clean\n",
    "\n",
    "# downsize to remove isolated pixels\n",
    "binsize = 3\n",
    "trim_size_x = mask.shape[1] % binsize\n",
    "trim_size_y = mask.shape[0] % binsize\n",
    "mask = mask[:(mask.shape[0]-trim_size_y), :(mask.shape[1]-trim_size_x)]\n",
    "# to ignore NAN values, use np.nanmean\n",
    "mask = np.median(np.median(mask.reshape((mask.shape[0]//binsize, binsize, mask.shape[1]//binsize,-1)), axis=3), axis=1)\n",
    "mask = mask>0\n",
    "\n",
    "npix_case2 = np.sum(mask)\n",
    "\n",
    "# Case 3\n",
    "mask = (nexp==0) & (ivar==0) & (img!=0)\n",
    "mask &= mask_clean\n",
    "npix_case3 = np.sum(mask)\n",
    "\n",
    "print([npix_obs, npix_case1, npix_case2, npix_case3])"
   ]
  },
  {
   "cell_type": "code",
   "execution_count": null,
   "metadata": {},
   "outputs": [],
   "source": []
  }
 ],
 "metadata": {
  "kernelspec": {
   "display_name": "DESI 18.7",
   "language": "python",
   "name": "desi-18.7"
  },
  "language_info": {
   "codemirror_mode": {
    "name": "ipython",
    "version": 3
   },
   "file_extension": ".py",
   "mimetype": "text/x-python",
   "name": "python",
   "nbconvert_exporter": "python",
   "pygments_lexer": "ipython3",
   "version": "3.6.6"
  }
 },
 "nbformat": 4,
 "nbformat_minor": 2
}
